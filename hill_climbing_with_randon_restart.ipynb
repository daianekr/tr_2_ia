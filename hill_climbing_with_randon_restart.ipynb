{
 "cells": [
  {
   "cell_type": "code",
   "execution_count": null,
   "metadata": {},
   "outputs": [],
   "source": [
    "%pip install pandas"
   ]
  },
  {
   "cell_type": "code",
   "execution_count": null,
   "metadata": {},
   "outputs": [],
   "source": [
    "%pip install matplotlib seaborn"
   ]
  },
  {
   "cell_type": "code",
   "execution_count": null,
   "metadata": {},
   "outputs": [],
   "source": [
    "%pip install networkx"
   ]
  },
  {
   "cell_type": "code",
   "execution_count": null,
   "metadata": {},
   "outputs": [],
   "source": [
    "%pip install plotly"
   ]
  },
  {
   "cell_type": "code",
   "execution_count": null,
   "metadata": {},
   "outputs": [],
   "source": [
    "%pip install nbformat"
   ]
  },
  {
   "cell_type": "code",
   "execution_count": null,
   "metadata": {},
   "outputs": [],
   "source": [
    "%pip install ipykernel"
   ]
  },
  {
   "cell_type": "code",
   "execution_count": null,
   "metadata": {},
   "outputs": [],
   "source": [
    "%pip install --upgrade nbformat"
   ]
  },
  {
   "cell_type": "code",
   "execution_count": null,
   "metadata": {},
   "outputs": [],
   "source": [
    "%pip install nbformat "
   ]
  },
  {
   "cell_type": "code",
   "execution_count": 2,
   "metadata": {},
   "outputs": [],
   "source": [
    "# importação de bibliotecas\n",
    "\n",
    "import numpy as np\n",
    "import pandas as pd\n",
    "import matplotlib.pyplot as plt\n",
    "import seaborn as sns\n",
    "import random\n",
    "import networkx as nx\n",
    "from math import sqrt\n",
    "import plotly.express as px\n",
    "import plotly.graph_objects as go\n"
   ]
  },
  {
   "cell_type": "code",
   "execution_count": 13,
   "metadata": {},
   "outputs": [],
   "source": [
    "# Cria uma solucao inicial com as cidades em um ordem aleatoria\n",
    "\n",
    "def solucao_aleatoria(tsp):\n",
    "    cidades = list(tsp.keys())\n",
    "    solucao = []\n",
    "\n",
    "    # as 3 linhas abaixo não são estritamente necessarias, servem\n",
    "    # apenas para fixar a primeira cidade da lista na solução\n",
    "    cidade = cidades[0]\n",
    "    solucao.append(cidade)\n",
    "    cidades.remove(cidade)\n",
    "\n",
    "    for _ in range(0,len(cidades)):\n",
    "        #print(_, cidades, solucao)\n",
    "        cidade = random.choice(cidades)\n",
    "\n",
    "        solucao.append(cidade)\n",
    "        cidades.remove(cidade)\n",
    "\n",
    "    return solucao"
   ]
  },
  {
   "cell_type": "code",
   "execution_count": 3,
   "metadata": {},
   "outputs": [],
   "source": [
    "# Gera aleatoriamente as coordenadas de N cidades.\n",
    "# Obs: esta informação geralmente é fornecida como entrada do problema.\n",
    "\n",
    "def gera_coordenadas_aleatorias(n_cidades):\n",
    "    minimo = 10\n",
    "    maximo = 90\n",
    "    escala = (maximo-minimo)-1\n",
    "\n",
    "    # gera n coordenadas (x,y) aleatorias entre [min, max]\n",
    "    X = minimo + escala * np.random.rand(n_cidades)\n",
    "    Y = minimo + escala * np.random.rand(n_cidades)\n",
    "    coordenadas = {'X':X, 'Y': Y}\n",
    "\n",
    "    cidades = ['A'+str(i) for i in range(n_cidades)]\n",
    "\n",
    "    df_cidades = pd.DataFrame(coordenadas, index=cidades)\n",
    "    df_cidades.index.name = 'CIDADE'\n",
    "\n",
    "    return df_cidades"
   ]
  },
  {
   "cell_type": "code",
   "execution_count": 4,
   "metadata": {},
   "outputs": [],
   "source": [
    "# distancia Euclidiana entre dois pontos\n",
    "def distancia(x1,y1,x2,y2):\n",
    "    dx = x2 - x1\n",
    "    dy = y2 - y1\n",
    "    return sqrt(dx**2 + dy**2)"
   ]
  },
  {
   "cell_type": "code",
   "execution_count": 5,
   "metadata": {},
   "outputs": [],
   "source": [
    "# Calcula matriz de distancias.\n",
    "#\n",
    "# OBS:  Não é estritamente necessario calculá-las a priori.\n",
    "#       Foi feito assim apenas para fins didáticos.\n",
    "#       Ao invés, as distâncias podem ser calculadas sob demanda.\n",
    "\n",
    "def gera_matriz_distancias(Coordenadas):\n",
    "\n",
    "    n_cidades = len(Coordenadas)\n",
    "    dist = np.zeros((n_cidades,n_cidades), dtype=float)\n",
    "\n",
    "    for i in range(0, n_cidades):\n",
    "        for j in range(i+1, n_cidades):\n",
    "            x1,y1 = Coordenadas.iloc[i]\n",
    "            x2,y2 = Coordenadas.iloc[j]\n",
    "\n",
    "            dist[i,j] = distancia(x1,y1,x2,y2)\n",
    "            dist[j,i] = dist[i,j]\n",
    "\n",
    "    return dist"
   ]
  },
  {
   "cell_type": "code",
   "execution_count": 6,
   "metadata": {},
   "outputs": [],
   "source": [
    "# Recebe uma lista com as coordenadas reais de uma cidade e\n",
    "# gera uma matriz de distancias entre as cidades.\n",
    "# Obs: a matriz é simetrica e com diagonal nula\n",
    "def gera_problema_tsp(df_cidades):\n",
    "    # nomes ficticios das cidades\n",
    "    cidades = df_cidades.index\n",
    "\n",
    "    # calcula matriz de distancias\n",
    "    distancias = gera_matriz_distancias(df_cidades)\n",
    "\n",
    "    # cria estrutura para armazena as distâncias entre todas as cidades\n",
    "    tsp = pd.DataFrame(distancias, columns=cidades, index=cidades)\n",
    "\n",
    "    return tsp"
   ]
  },
  {
   "cell_type": "code",
   "execution_count": 7,
   "metadata": {},
   "outputs": [],
   "source": [
    "# Plota a solução do roteamento das cidades\n",
    "# usando a biblioteca PLOTLY\n",
    "def plota_rotas(df_cidades, ordem_cidades):\n",
    "    df_solucao = df_cidades.copy()\n",
    "    df_solucao = df_solucao.reindex(ordem_cidades)\n",
    "\n",
    "    X = df_solucao['X']\n",
    "    Y = df_solucao['Y']\n",
    "    cidades = list(df_solucao.index)\n",
    "\n",
    "    # cria objeto gráfico\n",
    "    fig = go.Figure()\n",
    "\n",
    "    fig.update_layout(autosize=False, width=500, height=500, showlegend=False)\n",
    "\n",
    "    # gera linhas com as rotas da primeira ate a ultima cidade\n",
    "    fig.add_trace(go.Scatter(x=X, y=Y,\n",
    "                             text=cidades, textposition='bottom center',\n",
    "                             mode='lines+markers+text',\n",
    "                             name=''))\n",
    "\n",
    "    # acrescenta linha da última para a primeira para fechar o ciclo\n",
    "    fig.add_trace(go.Scatter(x=X.iloc[[-1,0]], y=Y.iloc[[-1,0]],\n",
    "                             mode='lines+markers', name=''))\n",
    "\n",
    "    fig.show()"
   ]
  },
  {
   "cell_type": "code",
   "execution_count": 8,
   "metadata": {},
   "outputs": [
    {
     "data": {
      "text/html": [
       "<div>\n",
       "<style scoped>\n",
       "    .dataframe tbody tr th:only-of-type {\n",
       "        vertical-align: middle;\n",
       "    }\n",
       "\n",
       "    .dataframe tbody tr th {\n",
       "        vertical-align: top;\n",
       "    }\n",
       "\n",
       "    .dataframe thead th {\n",
       "        text-align: right;\n",
       "    }\n",
       "</style>\n",
       "<table border=\"1\" class=\"dataframe\">\n",
       "  <thead>\n",
       "    <tr style=\"text-align: right;\">\n",
       "      <th></th>\n",
       "      <th>X</th>\n",
       "      <th>Y</th>\n",
       "    </tr>\n",
       "    <tr>\n",
       "      <th>CIDADE</th>\n",
       "      <th></th>\n",
       "      <th></th>\n",
       "    </tr>\n",
       "  </thead>\n",
       "  <tbody>\n",
       "    <tr>\n",
       "      <th>A0</th>\n",
       "      <td>78.196656</td>\n",
       "      <td>76.679819</td>\n",
       "    </tr>\n",
       "    <tr>\n",
       "      <th>A1</th>\n",
       "      <td>34.764039</td>\n",
       "      <td>80.734850</td>\n",
       "    </tr>\n",
       "    <tr>\n",
       "      <th>A2</th>\n",
       "      <td>68.141847</td>\n",
       "      <td>34.156060</td>\n",
       "    </tr>\n",
       "    <tr>\n",
       "      <th>A3</th>\n",
       "      <td>26.792879</td>\n",
       "      <td>38.876939</td>\n",
       "    </tr>\n",
       "    <tr>\n",
       "      <th>A4</th>\n",
       "      <td>47.886766</td>\n",
       "      <td>67.631953</td>\n",
       "    </tr>\n",
       "    <tr>\n",
       "      <th>A5</th>\n",
       "      <td>54.782487</td>\n",
       "      <td>60.852554</td>\n",
       "    </tr>\n",
       "    <tr>\n",
       "      <th>A6</th>\n",
       "      <td>79.613989</td>\n",
       "      <td>13.717934</td>\n",
       "    </tr>\n",
       "    <tr>\n",
       "      <th>A7</th>\n",
       "      <td>79.668407</td>\n",
       "      <td>60.935228</td>\n",
       "    </tr>\n",
       "    <tr>\n",
       "      <th>A8</th>\n",
       "      <td>36.497645</td>\n",
       "      <td>82.465976</td>\n",
       "    </tr>\n",
       "    <tr>\n",
       "      <th>A9</th>\n",
       "      <td>40.124213</td>\n",
       "      <td>34.128599</td>\n",
       "    </tr>\n",
       "  </tbody>\n",
       "</table>\n",
       "</div>"
      ],
      "text/plain": [
       "                X          Y\n",
       "CIDADE                      \n",
       "A0      78.196656  76.679819\n",
       "A1      34.764039  80.734850\n",
       "A2      68.141847  34.156060\n",
       "A3      26.792879  38.876939\n",
       "A4      47.886766  67.631953\n",
       "A5      54.782487  60.852554\n",
       "A6      79.613989  13.717934\n",
       "A7      79.668407  60.935228\n",
       "A8      36.497645  82.465976\n",
       "A9      40.124213  34.128599"
      ]
     },
     "execution_count": 8,
     "metadata": {},
     "output_type": "execute_result"
    }
   ],
   "source": [
    "n_cidades=10\n",
    "df_coordenadas = gera_coordenadas_aleatorias(n_cidades)\n",
    "df_coordenadas"
   ]
  },
  {
   "cell_type": "code",
   "execution_count": 9,
   "metadata": {},
   "outputs": [
    {
     "data": {
      "text/html": [
       "<div>\n",
       "<style scoped>\n",
       "    .dataframe tbody tr th:only-of-type {\n",
       "        vertical-align: middle;\n",
       "    }\n",
       "\n",
       "    .dataframe tbody tr th {\n",
       "        vertical-align: top;\n",
       "    }\n",
       "\n",
       "    .dataframe thead th {\n",
       "        text-align: right;\n",
       "    }\n",
       "</style>\n",
       "<table border=\"1\" class=\"dataframe\">\n",
       "  <thead>\n",
       "    <tr style=\"text-align: right;\">\n",
       "      <th>CIDADE</th>\n",
       "      <th>A0</th>\n",
       "      <th>A1</th>\n",
       "      <th>A2</th>\n",
       "      <th>A3</th>\n",
       "      <th>A4</th>\n",
       "      <th>A5</th>\n",
       "      <th>A6</th>\n",
       "      <th>A7</th>\n",
       "      <th>A8</th>\n",
       "      <th>A9</th>\n",
       "    </tr>\n",
       "    <tr>\n",
       "      <th>CIDADE</th>\n",
       "      <th></th>\n",
       "      <th></th>\n",
       "      <th></th>\n",
       "      <th></th>\n",
       "      <th></th>\n",
       "      <th></th>\n",
       "      <th></th>\n",
       "      <th></th>\n",
       "      <th></th>\n",
       "      <th></th>\n",
       "    </tr>\n",
       "  </thead>\n",
       "  <tbody>\n",
       "    <tr>\n",
       "      <th>A0</th>\n",
       "      <td>0.000000</td>\n",
       "      <td>43.621503</td>\n",
       "      <td>43.696330</td>\n",
       "      <td>63.807570</td>\n",
       "      <td>31.631524</td>\n",
       "      <td>28.261734</td>\n",
       "      <td>62.977836</td>\n",
       "      <td>15.813229</td>\n",
       "      <td>42.098540</td>\n",
       "      <td>57.097436</td>\n",
       "    </tr>\n",
       "    <tr>\n",
       "      <th>A1</th>\n",
       "      <td>43.621503</td>\n",
       "      <td>0.000000</td>\n",
       "      <td>57.303244</td>\n",
       "      <td>42.610141</td>\n",
       "      <td>18.544322</td>\n",
       "      <td>28.214251</td>\n",
       "      <td>80.639848</td>\n",
       "      <td>49.075731</td>\n",
       "      <td>2.449937</td>\n",
       "      <td>46.913474</td>\n",
       "    </tr>\n",
       "    <tr>\n",
       "      <th>A2</th>\n",
       "      <td>43.696330</td>\n",
       "      <td>57.303244</td>\n",
       "      <td>0.000000</td>\n",
       "      <td>41.617591</td>\n",
       "      <td>39.126765</td>\n",
       "      <td>29.852559</td>\n",
       "      <td>23.437727</td>\n",
       "      <td>29.154509</td>\n",
       "      <td>57.751221</td>\n",
       "      <td>28.017647</td>\n",
       "    </tr>\n",
       "    <tr>\n",
       "      <th>A3</th>\n",
       "      <td>63.807570</td>\n",
       "      <td>42.610141</td>\n",
       "      <td>41.617591</td>\n",
       "      <td>0.000000</td>\n",
       "      <td>35.662346</td>\n",
       "      <td>35.585753</td>\n",
       "      <td>58.506796</td>\n",
       "      <td>57.292142</td>\n",
       "      <td>44.656317</td>\n",
       "      <td>14.151721</td>\n",
       "    </tr>\n",
       "    <tr>\n",
       "      <th>A4</th>\n",
       "      <td>31.631524</td>\n",
       "      <td>18.544322</td>\n",
       "      <td>39.126765</td>\n",
       "      <td>35.662346</td>\n",
       "      <td>0.000000</td>\n",
       "      <td>9.670120</td>\n",
       "      <td>62.556680</td>\n",
       "      <td>32.479514</td>\n",
       "      <td>18.701880</td>\n",
       "      <td>34.390870</td>\n",
       "    </tr>\n",
       "    <tr>\n",
       "      <th>A5</th>\n",
       "      <td>28.261734</td>\n",
       "      <td>28.214251</td>\n",
       "      <td>29.852559</td>\n",
       "      <td>35.585753</td>\n",
       "      <td>9.670120</td>\n",
       "      <td>0.000000</td>\n",
       "      <td>53.275472</td>\n",
       "      <td>24.886057</td>\n",
       "      <td>28.310342</td>\n",
       "      <td>30.480072</td>\n",
       "    </tr>\n",
       "    <tr>\n",
       "      <th>A6</th>\n",
       "      <td>62.977836</td>\n",
       "      <td>80.639848</td>\n",
       "      <td>23.437727</td>\n",
       "      <td>58.506796</td>\n",
       "      <td>62.556680</td>\n",
       "      <td>53.275472</td>\n",
       "      <td>0.000000</td>\n",
       "      <td>47.217325</td>\n",
       "      <td>81.149938</td>\n",
       "      <td>44.452645</td>\n",
       "    </tr>\n",
       "    <tr>\n",
       "      <th>A7</th>\n",
       "      <td>15.813229</td>\n",
       "      <td>49.075731</td>\n",
       "      <td>29.154509</td>\n",
       "      <td>57.292142</td>\n",
       "      <td>32.479514</td>\n",
       "      <td>24.886057</td>\n",
       "      <td>47.217325</td>\n",
       "      <td>0.000000</td>\n",
       "      <td>48.241971</td>\n",
       "      <td>47.773827</td>\n",
       "    </tr>\n",
       "    <tr>\n",
       "      <th>A8</th>\n",
       "      <td>42.098540</td>\n",
       "      <td>2.449937</td>\n",
       "      <td>57.751221</td>\n",
       "      <td>44.656317</td>\n",
       "      <td>18.701880</td>\n",
       "      <td>28.310342</td>\n",
       "      <td>81.149938</td>\n",
       "      <td>48.241971</td>\n",
       "      <td>0.000000</td>\n",
       "      <td>48.473229</td>\n",
       "    </tr>\n",
       "    <tr>\n",
       "      <th>A9</th>\n",
       "      <td>57.097436</td>\n",
       "      <td>46.913474</td>\n",
       "      <td>28.017647</td>\n",
       "      <td>14.151721</td>\n",
       "      <td>34.390870</td>\n",
       "      <td>30.480072</td>\n",
       "      <td>44.452645</td>\n",
       "      <td>47.773827</td>\n",
       "      <td>48.473229</td>\n",
       "      <td>0.000000</td>\n",
       "    </tr>\n",
       "  </tbody>\n",
       "</table>\n",
       "</div>"
      ],
      "text/plain": [
       "CIDADE         A0         A1         A2         A3         A4         A5  \\\n",
       "CIDADE                                                                     \n",
       "A0       0.000000  43.621503  43.696330  63.807570  31.631524  28.261734   \n",
       "A1      43.621503   0.000000  57.303244  42.610141  18.544322  28.214251   \n",
       "A2      43.696330  57.303244   0.000000  41.617591  39.126765  29.852559   \n",
       "A3      63.807570  42.610141  41.617591   0.000000  35.662346  35.585753   \n",
       "A4      31.631524  18.544322  39.126765  35.662346   0.000000   9.670120   \n",
       "A5      28.261734  28.214251  29.852559  35.585753   9.670120   0.000000   \n",
       "A6      62.977836  80.639848  23.437727  58.506796  62.556680  53.275472   \n",
       "A7      15.813229  49.075731  29.154509  57.292142  32.479514  24.886057   \n",
       "A8      42.098540   2.449937  57.751221  44.656317  18.701880  28.310342   \n",
       "A9      57.097436  46.913474  28.017647  14.151721  34.390870  30.480072   \n",
       "\n",
       "CIDADE         A6         A7         A8         A9  \n",
       "CIDADE                                              \n",
       "A0      62.977836  15.813229  42.098540  57.097436  \n",
       "A1      80.639848  49.075731   2.449937  46.913474  \n",
       "A2      23.437727  29.154509  57.751221  28.017647  \n",
       "A3      58.506796  57.292142  44.656317  14.151721  \n",
       "A4      62.556680  32.479514  18.701880  34.390870  \n",
       "A5      53.275472  24.886057  28.310342  30.480072  \n",
       "A6       0.000000  47.217325  81.149938  44.452645  \n",
       "A7      47.217325   0.000000  48.241971  47.773827  \n",
       "A8      81.149938  48.241971   0.000000  48.473229  \n",
       "A9      44.452645  47.773827  48.473229   0.000000  "
      ]
     },
     "execution_count": 9,
     "metadata": {},
     "output_type": "execute_result"
    }
   ],
   "source": [
    "tsp = gera_problema_tsp(df_coordenadas)\n",
    "tsp"
   ]
  },
  {
   "cell_type": "code",
   "execution_count": 15,
   "metadata": {},
   "outputs": [
    {
     "name": "stdout",
     "output_type": "stream",
     "text": [
      "['A0', 'A1', 'A2', 'A3', 'A4', 'A5', 'A6', 'A7', 'A8', 'A9']\n"
     ]
    },
    {
     "data": {
      "application/vnd.plotly.v1+json": {
       "config": {
        "plotlyServerURL": "https://plot.ly"
       },
       "data": [
        {
         "mode": "lines+markers+text",
         "name": "",
         "text": [
          "A0",
          "A1",
          "A2",
          "A3",
          "A4",
          "A5",
          "A6",
          "A7",
          "A8",
          "A9"
         ],
         "textposition": "bottom center",
         "type": "scatter",
         "x": [
          78.19665574708924,
          34.76403855273398,
          68.14184714132404,
          26.79287921917742,
          47.88676616926943,
          54.782487397908035,
          79.61398903937739,
          79.66840685430628,
          36.497645293016134,
          40.12421341029308
         ],
         "y": [
          76.67981910509941,
          80.73484982119504,
          34.15606004324721,
          38.876939051849384,
          67.63195327942998,
          60.85255430724214,
          13.71793350399159,
          60.93522750739645,
          82.46597586253631,
          34.12859933669195
         ]
        },
        {
         "mode": "lines+markers",
         "name": "",
         "type": "scatter",
         "x": [
          40.12421341029308,
          78.19665574708924
         ],
         "y": [
          34.12859933669195,
          76.67981910509941
         ]
        }
       ],
       "layout": {
        "autosize": false,
        "height": 500,
        "showlegend": false,
        "template": {
         "data": {
          "bar": [
           {
            "error_x": {
             "color": "#2a3f5f"
            },
            "error_y": {
             "color": "#2a3f5f"
            },
            "marker": {
             "line": {
              "color": "#E5ECF6",
              "width": 0.5
             },
             "pattern": {
              "fillmode": "overlay",
              "size": 10,
              "solidity": 0.2
             }
            },
            "type": "bar"
           }
          ],
          "barpolar": [
           {
            "marker": {
             "line": {
              "color": "#E5ECF6",
              "width": 0.5
             },
             "pattern": {
              "fillmode": "overlay",
              "size": 10,
              "solidity": 0.2
             }
            },
            "type": "barpolar"
           }
          ],
          "carpet": [
           {
            "aaxis": {
             "endlinecolor": "#2a3f5f",
             "gridcolor": "white",
             "linecolor": "white",
             "minorgridcolor": "white",
             "startlinecolor": "#2a3f5f"
            },
            "baxis": {
             "endlinecolor": "#2a3f5f",
             "gridcolor": "white",
             "linecolor": "white",
             "minorgridcolor": "white",
             "startlinecolor": "#2a3f5f"
            },
            "type": "carpet"
           }
          ],
          "choropleth": [
           {
            "colorbar": {
             "outlinewidth": 0,
             "ticks": ""
            },
            "type": "choropleth"
           }
          ],
          "contour": [
           {
            "colorbar": {
             "outlinewidth": 0,
             "ticks": ""
            },
            "colorscale": [
             [
              0,
              "#0d0887"
             ],
             [
              0.1111111111111111,
              "#46039f"
             ],
             [
              0.2222222222222222,
              "#7201a8"
             ],
             [
              0.3333333333333333,
              "#9c179e"
             ],
             [
              0.4444444444444444,
              "#bd3786"
             ],
             [
              0.5555555555555556,
              "#d8576b"
             ],
             [
              0.6666666666666666,
              "#ed7953"
             ],
             [
              0.7777777777777778,
              "#fb9f3a"
             ],
             [
              0.8888888888888888,
              "#fdca26"
             ],
             [
              1,
              "#f0f921"
             ]
            ],
            "type": "contour"
           }
          ],
          "contourcarpet": [
           {
            "colorbar": {
             "outlinewidth": 0,
             "ticks": ""
            },
            "type": "contourcarpet"
           }
          ],
          "heatmap": [
           {
            "colorbar": {
             "outlinewidth": 0,
             "ticks": ""
            },
            "colorscale": [
             [
              0,
              "#0d0887"
             ],
             [
              0.1111111111111111,
              "#46039f"
             ],
             [
              0.2222222222222222,
              "#7201a8"
             ],
             [
              0.3333333333333333,
              "#9c179e"
             ],
             [
              0.4444444444444444,
              "#bd3786"
             ],
             [
              0.5555555555555556,
              "#d8576b"
             ],
             [
              0.6666666666666666,
              "#ed7953"
             ],
             [
              0.7777777777777778,
              "#fb9f3a"
             ],
             [
              0.8888888888888888,
              "#fdca26"
             ],
             [
              1,
              "#f0f921"
             ]
            ],
            "type": "heatmap"
           }
          ],
          "heatmapgl": [
           {
            "colorbar": {
             "outlinewidth": 0,
             "ticks": ""
            },
            "colorscale": [
             [
              0,
              "#0d0887"
             ],
             [
              0.1111111111111111,
              "#46039f"
             ],
             [
              0.2222222222222222,
              "#7201a8"
             ],
             [
              0.3333333333333333,
              "#9c179e"
             ],
             [
              0.4444444444444444,
              "#bd3786"
             ],
             [
              0.5555555555555556,
              "#d8576b"
             ],
             [
              0.6666666666666666,
              "#ed7953"
             ],
             [
              0.7777777777777778,
              "#fb9f3a"
             ],
             [
              0.8888888888888888,
              "#fdca26"
             ],
             [
              1,
              "#f0f921"
             ]
            ],
            "type": "heatmapgl"
           }
          ],
          "histogram": [
           {
            "marker": {
             "pattern": {
              "fillmode": "overlay",
              "size": 10,
              "solidity": 0.2
             }
            },
            "type": "histogram"
           }
          ],
          "histogram2d": [
           {
            "colorbar": {
             "outlinewidth": 0,
             "ticks": ""
            },
            "colorscale": [
             [
              0,
              "#0d0887"
             ],
             [
              0.1111111111111111,
              "#46039f"
             ],
             [
              0.2222222222222222,
              "#7201a8"
             ],
             [
              0.3333333333333333,
              "#9c179e"
             ],
             [
              0.4444444444444444,
              "#bd3786"
             ],
             [
              0.5555555555555556,
              "#d8576b"
             ],
             [
              0.6666666666666666,
              "#ed7953"
             ],
             [
              0.7777777777777778,
              "#fb9f3a"
             ],
             [
              0.8888888888888888,
              "#fdca26"
             ],
             [
              1,
              "#f0f921"
             ]
            ],
            "type": "histogram2d"
           }
          ],
          "histogram2dcontour": [
           {
            "colorbar": {
             "outlinewidth": 0,
             "ticks": ""
            },
            "colorscale": [
             [
              0,
              "#0d0887"
             ],
             [
              0.1111111111111111,
              "#46039f"
             ],
             [
              0.2222222222222222,
              "#7201a8"
             ],
             [
              0.3333333333333333,
              "#9c179e"
             ],
             [
              0.4444444444444444,
              "#bd3786"
             ],
             [
              0.5555555555555556,
              "#d8576b"
             ],
             [
              0.6666666666666666,
              "#ed7953"
             ],
             [
              0.7777777777777778,
              "#fb9f3a"
             ],
             [
              0.8888888888888888,
              "#fdca26"
             ],
             [
              1,
              "#f0f921"
             ]
            ],
            "type": "histogram2dcontour"
           }
          ],
          "mesh3d": [
           {
            "colorbar": {
             "outlinewidth": 0,
             "ticks": ""
            },
            "type": "mesh3d"
           }
          ],
          "parcoords": [
           {
            "line": {
             "colorbar": {
              "outlinewidth": 0,
              "ticks": ""
             }
            },
            "type": "parcoords"
           }
          ],
          "pie": [
           {
            "automargin": true,
            "type": "pie"
           }
          ],
          "scatter": [
           {
            "fillpattern": {
             "fillmode": "overlay",
             "size": 10,
             "solidity": 0.2
            },
            "type": "scatter"
           }
          ],
          "scatter3d": [
           {
            "line": {
             "colorbar": {
              "outlinewidth": 0,
              "ticks": ""
             }
            },
            "marker": {
             "colorbar": {
              "outlinewidth": 0,
              "ticks": ""
             }
            },
            "type": "scatter3d"
           }
          ],
          "scattercarpet": [
           {
            "marker": {
             "colorbar": {
              "outlinewidth": 0,
              "ticks": ""
             }
            },
            "type": "scattercarpet"
           }
          ],
          "scattergeo": [
           {
            "marker": {
             "colorbar": {
              "outlinewidth": 0,
              "ticks": ""
             }
            },
            "type": "scattergeo"
           }
          ],
          "scattergl": [
           {
            "marker": {
             "colorbar": {
              "outlinewidth": 0,
              "ticks": ""
             }
            },
            "type": "scattergl"
           }
          ],
          "scattermapbox": [
           {
            "marker": {
             "colorbar": {
              "outlinewidth": 0,
              "ticks": ""
             }
            },
            "type": "scattermapbox"
           }
          ],
          "scatterpolar": [
           {
            "marker": {
             "colorbar": {
              "outlinewidth": 0,
              "ticks": ""
             }
            },
            "type": "scatterpolar"
           }
          ],
          "scatterpolargl": [
           {
            "marker": {
             "colorbar": {
              "outlinewidth": 0,
              "ticks": ""
             }
            },
            "type": "scatterpolargl"
           }
          ],
          "scatterternary": [
           {
            "marker": {
             "colorbar": {
              "outlinewidth": 0,
              "ticks": ""
             }
            },
            "type": "scatterternary"
           }
          ],
          "surface": [
           {
            "colorbar": {
             "outlinewidth": 0,
             "ticks": ""
            },
            "colorscale": [
             [
              0,
              "#0d0887"
             ],
             [
              0.1111111111111111,
              "#46039f"
             ],
             [
              0.2222222222222222,
              "#7201a8"
             ],
             [
              0.3333333333333333,
              "#9c179e"
             ],
             [
              0.4444444444444444,
              "#bd3786"
             ],
             [
              0.5555555555555556,
              "#d8576b"
             ],
             [
              0.6666666666666666,
              "#ed7953"
             ],
             [
              0.7777777777777778,
              "#fb9f3a"
             ],
             [
              0.8888888888888888,
              "#fdca26"
             ],
             [
              1,
              "#f0f921"
             ]
            ],
            "type": "surface"
           }
          ],
          "table": [
           {
            "cells": {
             "fill": {
              "color": "#EBF0F8"
             },
             "line": {
              "color": "white"
             }
            },
            "header": {
             "fill": {
              "color": "#C8D4E3"
             },
             "line": {
              "color": "white"
             }
            },
            "type": "table"
           }
          ]
         },
         "layout": {
          "annotationdefaults": {
           "arrowcolor": "#2a3f5f",
           "arrowhead": 0,
           "arrowwidth": 1
          },
          "autotypenumbers": "strict",
          "coloraxis": {
           "colorbar": {
            "outlinewidth": 0,
            "ticks": ""
           }
          },
          "colorscale": {
           "diverging": [
            [
             0,
             "#8e0152"
            ],
            [
             0.1,
             "#c51b7d"
            ],
            [
             0.2,
             "#de77ae"
            ],
            [
             0.3,
             "#f1b6da"
            ],
            [
             0.4,
             "#fde0ef"
            ],
            [
             0.5,
             "#f7f7f7"
            ],
            [
             0.6,
             "#e6f5d0"
            ],
            [
             0.7,
             "#b8e186"
            ],
            [
             0.8,
             "#7fbc41"
            ],
            [
             0.9,
             "#4d9221"
            ],
            [
             1,
             "#276419"
            ]
           ],
           "sequential": [
            [
             0,
             "#0d0887"
            ],
            [
             0.1111111111111111,
             "#46039f"
            ],
            [
             0.2222222222222222,
             "#7201a8"
            ],
            [
             0.3333333333333333,
             "#9c179e"
            ],
            [
             0.4444444444444444,
             "#bd3786"
            ],
            [
             0.5555555555555556,
             "#d8576b"
            ],
            [
             0.6666666666666666,
             "#ed7953"
            ],
            [
             0.7777777777777778,
             "#fb9f3a"
            ],
            [
             0.8888888888888888,
             "#fdca26"
            ],
            [
             1,
             "#f0f921"
            ]
           ],
           "sequentialminus": [
            [
             0,
             "#0d0887"
            ],
            [
             0.1111111111111111,
             "#46039f"
            ],
            [
             0.2222222222222222,
             "#7201a8"
            ],
            [
             0.3333333333333333,
             "#9c179e"
            ],
            [
             0.4444444444444444,
             "#bd3786"
            ],
            [
             0.5555555555555556,
             "#d8576b"
            ],
            [
             0.6666666666666666,
             "#ed7953"
            ],
            [
             0.7777777777777778,
             "#fb9f3a"
            ],
            [
             0.8888888888888888,
             "#fdca26"
            ],
            [
             1,
             "#f0f921"
            ]
           ]
          },
          "colorway": [
           "#636efa",
           "#EF553B",
           "#00cc96",
           "#ab63fa",
           "#FFA15A",
           "#19d3f3",
           "#FF6692",
           "#B6E880",
           "#FF97FF",
           "#FECB52"
          ],
          "font": {
           "color": "#2a3f5f"
          },
          "geo": {
           "bgcolor": "white",
           "lakecolor": "white",
           "landcolor": "#E5ECF6",
           "showlakes": true,
           "showland": true,
           "subunitcolor": "white"
          },
          "hoverlabel": {
           "align": "left"
          },
          "hovermode": "closest",
          "mapbox": {
           "style": "light"
          },
          "paper_bgcolor": "white",
          "plot_bgcolor": "#E5ECF6",
          "polar": {
           "angularaxis": {
            "gridcolor": "white",
            "linecolor": "white",
            "ticks": ""
           },
           "bgcolor": "#E5ECF6",
           "radialaxis": {
            "gridcolor": "white",
            "linecolor": "white",
            "ticks": ""
           }
          },
          "scene": {
           "xaxis": {
            "backgroundcolor": "#E5ECF6",
            "gridcolor": "white",
            "gridwidth": 2,
            "linecolor": "white",
            "showbackground": true,
            "ticks": "",
            "zerolinecolor": "white"
           },
           "yaxis": {
            "backgroundcolor": "#E5ECF6",
            "gridcolor": "white",
            "gridwidth": 2,
            "linecolor": "white",
            "showbackground": true,
            "ticks": "",
            "zerolinecolor": "white"
           },
           "zaxis": {
            "backgroundcolor": "#E5ECF6",
            "gridcolor": "white",
            "gridwidth": 2,
            "linecolor": "white",
            "showbackground": true,
            "ticks": "",
            "zerolinecolor": "white"
           }
          },
          "shapedefaults": {
           "line": {
            "color": "#2a3f5f"
           }
          },
          "ternary": {
           "aaxis": {
            "gridcolor": "white",
            "linecolor": "white",
            "ticks": ""
           },
           "baxis": {
            "gridcolor": "white",
            "linecolor": "white",
            "ticks": ""
           },
           "bgcolor": "#E5ECF6",
           "caxis": {
            "gridcolor": "white",
            "linecolor": "white",
            "ticks": ""
           }
          },
          "title": {
           "x": 0.05
          },
          "xaxis": {
           "automargin": true,
           "gridcolor": "white",
           "linecolor": "white",
           "ticks": "",
           "title": {
            "standoff": 15
           },
           "zerolinecolor": "white",
           "zerolinewidth": 2
          },
          "yaxis": {
           "automargin": true,
           "gridcolor": "white",
           "linecolor": "white",
           "ticks": "",
           "title": {
            "standoff": 15
           },
           "zerolinecolor": "white",
           "zerolinewidth": 2
          }
         }
        },
        "width": 500
       }
      }
     },
     "metadata": {},
     "output_type": "display_data"
    }
   ],
   "source": [
    "solucao = ['A'+str(i) for i in range(n_cidades)]\n",
    "print(solucao)\n",
    "plota_rotas(df_coordenadas, solucao)"
   ]
  },
  {
   "cell_type": "code",
   "execution_count": 14,
   "metadata": {},
   "outputs": [
    {
     "name": "stdout",
     "output_type": "stream",
     "text": [
      "['A0', 'A1', 'A3', 'A6', 'A9', 'A4', 'A2', 'A7', 'A8', 'A5']\n"
     ]
    },
    {
     "data": {
      "application/vnd.plotly.v1+json": {
       "config": {
        "plotlyServerURL": "https://plot.ly"
       },
       "data": [
        {
         "mode": "lines+markers+text",
         "name": "",
         "text": [
          "A0",
          "A1",
          "A3",
          "A6",
          "A9",
          "A4",
          "A2",
          "A7",
          "A8",
          "A5"
         ],
         "textposition": "bottom center",
         "type": "scatter",
         "x": [
          78.19665574708924,
          34.76403855273398,
          26.79287921917742,
          79.61398903937739,
          40.12421341029308,
          47.88676616926943,
          68.14184714132404,
          79.66840685430628,
          36.497645293016134,
          54.782487397908035
         ],
         "y": [
          76.67981910509941,
          80.73484982119504,
          38.876939051849384,
          13.71793350399159,
          34.12859933669195,
          67.63195327942998,
          34.15606004324721,
          60.93522750739645,
          82.46597586253631,
          60.85255430724214
         ]
        },
        {
         "mode": "lines+markers",
         "name": "",
         "type": "scatter",
         "x": [
          54.782487397908035,
          78.19665574708924
         ],
         "y": [
          60.85255430724214,
          76.67981910509941
         ]
        }
       ],
       "layout": {
        "autosize": false,
        "height": 500,
        "showlegend": false,
        "template": {
         "data": {
          "bar": [
           {
            "error_x": {
             "color": "#2a3f5f"
            },
            "error_y": {
             "color": "#2a3f5f"
            },
            "marker": {
             "line": {
              "color": "#E5ECF6",
              "width": 0.5
             },
             "pattern": {
              "fillmode": "overlay",
              "size": 10,
              "solidity": 0.2
             }
            },
            "type": "bar"
           }
          ],
          "barpolar": [
           {
            "marker": {
             "line": {
              "color": "#E5ECF6",
              "width": 0.5
             },
             "pattern": {
              "fillmode": "overlay",
              "size": 10,
              "solidity": 0.2
             }
            },
            "type": "barpolar"
           }
          ],
          "carpet": [
           {
            "aaxis": {
             "endlinecolor": "#2a3f5f",
             "gridcolor": "white",
             "linecolor": "white",
             "minorgridcolor": "white",
             "startlinecolor": "#2a3f5f"
            },
            "baxis": {
             "endlinecolor": "#2a3f5f",
             "gridcolor": "white",
             "linecolor": "white",
             "minorgridcolor": "white",
             "startlinecolor": "#2a3f5f"
            },
            "type": "carpet"
           }
          ],
          "choropleth": [
           {
            "colorbar": {
             "outlinewidth": 0,
             "ticks": ""
            },
            "type": "choropleth"
           }
          ],
          "contour": [
           {
            "colorbar": {
             "outlinewidth": 0,
             "ticks": ""
            },
            "colorscale": [
             [
              0,
              "#0d0887"
             ],
             [
              0.1111111111111111,
              "#46039f"
             ],
             [
              0.2222222222222222,
              "#7201a8"
             ],
             [
              0.3333333333333333,
              "#9c179e"
             ],
             [
              0.4444444444444444,
              "#bd3786"
             ],
             [
              0.5555555555555556,
              "#d8576b"
             ],
             [
              0.6666666666666666,
              "#ed7953"
             ],
             [
              0.7777777777777778,
              "#fb9f3a"
             ],
             [
              0.8888888888888888,
              "#fdca26"
             ],
             [
              1,
              "#f0f921"
             ]
            ],
            "type": "contour"
           }
          ],
          "contourcarpet": [
           {
            "colorbar": {
             "outlinewidth": 0,
             "ticks": ""
            },
            "type": "contourcarpet"
           }
          ],
          "heatmap": [
           {
            "colorbar": {
             "outlinewidth": 0,
             "ticks": ""
            },
            "colorscale": [
             [
              0,
              "#0d0887"
             ],
             [
              0.1111111111111111,
              "#46039f"
             ],
             [
              0.2222222222222222,
              "#7201a8"
             ],
             [
              0.3333333333333333,
              "#9c179e"
             ],
             [
              0.4444444444444444,
              "#bd3786"
             ],
             [
              0.5555555555555556,
              "#d8576b"
             ],
             [
              0.6666666666666666,
              "#ed7953"
             ],
             [
              0.7777777777777778,
              "#fb9f3a"
             ],
             [
              0.8888888888888888,
              "#fdca26"
             ],
             [
              1,
              "#f0f921"
             ]
            ],
            "type": "heatmap"
           }
          ],
          "heatmapgl": [
           {
            "colorbar": {
             "outlinewidth": 0,
             "ticks": ""
            },
            "colorscale": [
             [
              0,
              "#0d0887"
             ],
             [
              0.1111111111111111,
              "#46039f"
             ],
             [
              0.2222222222222222,
              "#7201a8"
             ],
             [
              0.3333333333333333,
              "#9c179e"
             ],
             [
              0.4444444444444444,
              "#bd3786"
             ],
             [
              0.5555555555555556,
              "#d8576b"
             ],
             [
              0.6666666666666666,
              "#ed7953"
             ],
             [
              0.7777777777777778,
              "#fb9f3a"
             ],
             [
              0.8888888888888888,
              "#fdca26"
             ],
             [
              1,
              "#f0f921"
             ]
            ],
            "type": "heatmapgl"
           }
          ],
          "histogram": [
           {
            "marker": {
             "pattern": {
              "fillmode": "overlay",
              "size": 10,
              "solidity": 0.2
             }
            },
            "type": "histogram"
           }
          ],
          "histogram2d": [
           {
            "colorbar": {
             "outlinewidth": 0,
             "ticks": ""
            },
            "colorscale": [
             [
              0,
              "#0d0887"
             ],
             [
              0.1111111111111111,
              "#46039f"
             ],
             [
              0.2222222222222222,
              "#7201a8"
             ],
             [
              0.3333333333333333,
              "#9c179e"
             ],
             [
              0.4444444444444444,
              "#bd3786"
             ],
             [
              0.5555555555555556,
              "#d8576b"
             ],
             [
              0.6666666666666666,
              "#ed7953"
             ],
             [
              0.7777777777777778,
              "#fb9f3a"
             ],
             [
              0.8888888888888888,
              "#fdca26"
             ],
             [
              1,
              "#f0f921"
             ]
            ],
            "type": "histogram2d"
           }
          ],
          "histogram2dcontour": [
           {
            "colorbar": {
             "outlinewidth": 0,
             "ticks": ""
            },
            "colorscale": [
             [
              0,
              "#0d0887"
             ],
             [
              0.1111111111111111,
              "#46039f"
             ],
             [
              0.2222222222222222,
              "#7201a8"
             ],
             [
              0.3333333333333333,
              "#9c179e"
             ],
             [
              0.4444444444444444,
              "#bd3786"
             ],
             [
              0.5555555555555556,
              "#d8576b"
             ],
             [
              0.6666666666666666,
              "#ed7953"
             ],
             [
              0.7777777777777778,
              "#fb9f3a"
             ],
             [
              0.8888888888888888,
              "#fdca26"
             ],
             [
              1,
              "#f0f921"
             ]
            ],
            "type": "histogram2dcontour"
           }
          ],
          "mesh3d": [
           {
            "colorbar": {
             "outlinewidth": 0,
             "ticks": ""
            },
            "type": "mesh3d"
           }
          ],
          "parcoords": [
           {
            "line": {
             "colorbar": {
              "outlinewidth": 0,
              "ticks": ""
             }
            },
            "type": "parcoords"
           }
          ],
          "pie": [
           {
            "automargin": true,
            "type": "pie"
           }
          ],
          "scatter": [
           {
            "fillpattern": {
             "fillmode": "overlay",
             "size": 10,
             "solidity": 0.2
            },
            "type": "scatter"
           }
          ],
          "scatter3d": [
           {
            "line": {
             "colorbar": {
              "outlinewidth": 0,
              "ticks": ""
             }
            },
            "marker": {
             "colorbar": {
              "outlinewidth": 0,
              "ticks": ""
             }
            },
            "type": "scatter3d"
           }
          ],
          "scattercarpet": [
           {
            "marker": {
             "colorbar": {
              "outlinewidth": 0,
              "ticks": ""
             }
            },
            "type": "scattercarpet"
           }
          ],
          "scattergeo": [
           {
            "marker": {
             "colorbar": {
              "outlinewidth": 0,
              "ticks": ""
             }
            },
            "type": "scattergeo"
           }
          ],
          "scattergl": [
           {
            "marker": {
             "colorbar": {
              "outlinewidth": 0,
              "ticks": ""
             }
            },
            "type": "scattergl"
           }
          ],
          "scattermapbox": [
           {
            "marker": {
             "colorbar": {
              "outlinewidth": 0,
              "ticks": ""
             }
            },
            "type": "scattermapbox"
           }
          ],
          "scatterpolar": [
           {
            "marker": {
             "colorbar": {
              "outlinewidth": 0,
              "ticks": ""
             }
            },
            "type": "scatterpolar"
           }
          ],
          "scatterpolargl": [
           {
            "marker": {
             "colorbar": {
              "outlinewidth": 0,
              "ticks": ""
             }
            },
            "type": "scatterpolargl"
           }
          ],
          "scatterternary": [
           {
            "marker": {
             "colorbar": {
              "outlinewidth": 0,
              "ticks": ""
             }
            },
            "type": "scatterternary"
           }
          ],
          "surface": [
           {
            "colorbar": {
             "outlinewidth": 0,
             "ticks": ""
            },
            "colorscale": [
             [
              0,
              "#0d0887"
             ],
             [
              0.1111111111111111,
              "#46039f"
             ],
             [
              0.2222222222222222,
              "#7201a8"
             ],
             [
              0.3333333333333333,
              "#9c179e"
             ],
             [
              0.4444444444444444,
              "#bd3786"
             ],
             [
              0.5555555555555556,
              "#d8576b"
             ],
             [
              0.6666666666666666,
              "#ed7953"
             ],
             [
              0.7777777777777778,
              "#fb9f3a"
             ],
             [
              0.8888888888888888,
              "#fdca26"
             ],
             [
              1,
              "#f0f921"
             ]
            ],
            "type": "surface"
           }
          ],
          "table": [
           {
            "cells": {
             "fill": {
              "color": "#EBF0F8"
             },
             "line": {
              "color": "white"
             }
            },
            "header": {
             "fill": {
              "color": "#C8D4E3"
             },
             "line": {
              "color": "white"
             }
            },
            "type": "table"
           }
          ]
         },
         "layout": {
          "annotationdefaults": {
           "arrowcolor": "#2a3f5f",
           "arrowhead": 0,
           "arrowwidth": 1
          },
          "autotypenumbers": "strict",
          "coloraxis": {
           "colorbar": {
            "outlinewidth": 0,
            "ticks": ""
           }
          },
          "colorscale": {
           "diverging": [
            [
             0,
             "#8e0152"
            ],
            [
             0.1,
             "#c51b7d"
            ],
            [
             0.2,
             "#de77ae"
            ],
            [
             0.3,
             "#f1b6da"
            ],
            [
             0.4,
             "#fde0ef"
            ],
            [
             0.5,
             "#f7f7f7"
            ],
            [
             0.6,
             "#e6f5d0"
            ],
            [
             0.7,
             "#b8e186"
            ],
            [
             0.8,
             "#7fbc41"
            ],
            [
             0.9,
             "#4d9221"
            ],
            [
             1,
             "#276419"
            ]
           ],
           "sequential": [
            [
             0,
             "#0d0887"
            ],
            [
             0.1111111111111111,
             "#46039f"
            ],
            [
             0.2222222222222222,
             "#7201a8"
            ],
            [
             0.3333333333333333,
             "#9c179e"
            ],
            [
             0.4444444444444444,
             "#bd3786"
            ],
            [
             0.5555555555555556,
             "#d8576b"
            ],
            [
             0.6666666666666666,
             "#ed7953"
            ],
            [
             0.7777777777777778,
             "#fb9f3a"
            ],
            [
             0.8888888888888888,
             "#fdca26"
            ],
            [
             1,
             "#f0f921"
            ]
           ],
           "sequentialminus": [
            [
             0,
             "#0d0887"
            ],
            [
             0.1111111111111111,
             "#46039f"
            ],
            [
             0.2222222222222222,
             "#7201a8"
            ],
            [
             0.3333333333333333,
             "#9c179e"
            ],
            [
             0.4444444444444444,
             "#bd3786"
            ],
            [
             0.5555555555555556,
             "#d8576b"
            ],
            [
             0.6666666666666666,
             "#ed7953"
            ],
            [
             0.7777777777777778,
             "#fb9f3a"
            ],
            [
             0.8888888888888888,
             "#fdca26"
            ],
            [
             1,
             "#f0f921"
            ]
           ]
          },
          "colorway": [
           "#636efa",
           "#EF553B",
           "#00cc96",
           "#ab63fa",
           "#FFA15A",
           "#19d3f3",
           "#FF6692",
           "#B6E880",
           "#FF97FF",
           "#FECB52"
          ],
          "font": {
           "color": "#2a3f5f"
          },
          "geo": {
           "bgcolor": "white",
           "lakecolor": "white",
           "landcolor": "#E5ECF6",
           "showlakes": true,
           "showland": true,
           "subunitcolor": "white"
          },
          "hoverlabel": {
           "align": "left"
          },
          "hovermode": "closest",
          "mapbox": {
           "style": "light"
          },
          "paper_bgcolor": "white",
          "plot_bgcolor": "#E5ECF6",
          "polar": {
           "angularaxis": {
            "gridcolor": "white",
            "linecolor": "white",
            "ticks": ""
           },
           "bgcolor": "#E5ECF6",
           "radialaxis": {
            "gridcolor": "white",
            "linecolor": "white",
            "ticks": ""
           }
          },
          "scene": {
           "xaxis": {
            "backgroundcolor": "#E5ECF6",
            "gridcolor": "white",
            "gridwidth": 2,
            "linecolor": "white",
            "showbackground": true,
            "ticks": "",
            "zerolinecolor": "white"
           },
           "yaxis": {
            "backgroundcolor": "#E5ECF6",
            "gridcolor": "white",
            "gridwidth": 2,
            "linecolor": "white",
            "showbackground": true,
            "ticks": "",
            "zerolinecolor": "white"
           },
           "zaxis": {
            "backgroundcolor": "#E5ECF6",
            "gridcolor": "white",
            "gridwidth": 2,
            "linecolor": "white",
            "showbackground": true,
            "ticks": "",
            "zerolinecolor": "white"
           }
          },
          "shapedefaults": {
           "line": {
            "color": "#2a3f5f"
           }
          },
          "ternary": {
           "aaxis": {
            "gridcolor": "white",
            "linecolor": "white",
            "ticks": ""
           },
           "baxis": {
            "gridcolor": "white",
            "linecolor": "white",
            "ticks": ""
           },
           "bgcolor": "#E5ECF6",
           "caxis": {
            "gridcolor": "white",
            "linecolor": "white",
            "ticks": ""
           }
          },
          "title": {
           "x": 0.05
          },
          "xaxis": {
           "automargin": true,
           "gridcolor": "white",
           "linecolor": "white",
           "ticks": "",
           "title": {
            "standoff": 15
           },
           "zerolinecolor": "white",
           "zerolinewidth": 2
          },
          "yaxis": {
           "automargin": true,
           "gridcolor": "white",
           "linecolor": "white",
           "ticks": "",
           "title": {
            "standoff": 15
           },
           "zerolinecolor": "white",
           "zerolinewidth": 2
          }
         }
        },
        "width": 500
       }
      }
     },
     "metadata": {},
     "output_type": "display_data"
    }
   ],
   "source": [
    "solucao = solucao_aleatoria(tsp)\n",
    "print(solucao)\n",
    "plota_rotas(df_coordenadas, solucao)"
   ]
  },
  {
   "cell_type": "code",
   "execution_count": 16,
   "metadata": {},
   "outputs": [],
   "source": [
    "# Função Objetivo: calcula custo de uma dada solução.\n",
    "# Obs: Neste caso do problema do caixeiro viajante (TSP problem),\n",
    "# o custo é o comprimento da rota entre todas as cidades.\n",
    "def calcula_custo(tsp, solucao):\n",
    "\n",
    "    N = len(solucao)\n",
    "    custo = 0\n",
    "\n",
    "    for i in range(N):\n",
    "\n",
    "        # Quando chegar na última cidade, será necessário\n",
    "        # voltar para o início para adicionar o\n",
    "        # comprimento da rota da última cidade\n",
    "        # até a primeira cidade, fechando o ciclo.\n",
    "        #\n",
    "        # Por isso, a linha abaixo:\n",
    "        k = (i+1) % N\n",
    "        cidadeA = solucao[i]\n",
    "        cidadeB = solucao[k]\n",
    "\n",
    "        custo += tsp.loc[cidadeA, cidadeB]\n",
    "\n",
    "        #print(tsp.loc[cidadeA, cidadeB], cidadeA,cidadeB)\n",
    "\n",
    "    return custo"
   ]
  },
  {
   "cell_type": "code",
   "execution_count": 17,
   "metadata": {},
   "outputs": [],
   "source": [
    "# A partir de uma dada solução, gera diversas variações (vizinhos)\n",
    "def gera_vizinhos(solucao):\n",
    "\n",
    "    N = len(solucao)\n",
    "    for i in range(1, N):       # deixa o primeiro fixo\n",
    "        for j in range(i + 1, N):\n",
    "            vizinho = solucao.copy()\n",
    "            vizinho[i] = solucao[j]\n",
    "            vizinho[j] = solucao[i]\n",
    "\n",
    "            yield(vizinho)"
   ]
  },
  {
   "cell_type": "code",
   "execution_count": 18,
   "metadata": {},
   "outputs": [],
   "source": [
    "def obtem_melhor_vizinho(tsp, solucao):\n",
    "    melhor_custo = calcula_custo(tsp, solucao)\n",
    "    melhor_vizinho = solucao\n",
    "\n",
    "    for vizinho in gera_vizinhos(solucao):\n",
    "        custo_atual = calcula_custo(tsp, vizinho)\n",
    "        if custo_atual < melhor_custo:\n",
    "            melhor_custo = custo_atual\n",
    "            melhor_vizinho = vizinho\n",
    "\n",
    "    return melhor_vizinho, melhor_custo"
   ]
  },
  {
   "cell_type": "code",
   "execution_count": 19,
   "metadata": {},
   "outputs": [],
   "source": [
    "def hill_climbing(tsp):\n",
    "\n",
    "    # solucao inicial\n",
    "    solucao_inicial = solucao_aleatoria(tsp)\n",
    "    # melhor solucao ate o momento\n",
    "    solucao_melhor, custo_melhor = obtem_melhor_vizinho(tsp, solucao_inicial)\n",
    "\n",
    "    while True:\n",
    "\n",
    "        # tenta obter um candidato melhor\n",
    "        candidato_novo, custo_novo = obtem_melhor_vizinho(tsp, solucao_melhor)\n",
    "        #print(custo_melhor, custo_novo)\n",
    "\n",
    "        if custo_novo < custo_melhor:\n",
    "            custo_melhor   = custo_novo\n",
    "            solucao_melhor = candidato_novo\n",
    "        else:\n",
    "            break   # custo nao melhorou, entao sai do while\n",
    "\n",
    "    return custo_melhor, solucao_melhor"
   ]
  },
  {
   "cell_type": "code",
   "execution_count": 20,
   "metadata": {},
   "outputs": [],
   "source": [
    "def hill_climbing_restart(tsp):\n",
    "\n",
    "    for _ in range(50):\n",
    "\n",
    "        # solucao inicial\n",
    "        solucao_inicial = solucao_aleatoria(tsp)\n",
    "        # melhor solucao ate o momento\n",
    "        solucao_melhor, custo_melhor = obtem_melhor_vizinho(tsp, solucao_inicial)\n",
    "\n",
    "        while True:\n",
    "\n",
    "            # tenta obter um candidato melhor\n",
    "            candidato_atual, custo_atual = obtem_melhor_vizinho(tsp, solucao_melhor)\n",
    "            #print(custo_melhor, custo_atual)\n",
    "\n",
    "            if custo_atual < custo_melhor:\n",
    "                custo_melhor   = custo_atual\n",
    "                solucao_melhor = candidato_atual\n",
    "            else:\n",
    "                break   # custo nao melhorou, entao sai do while\n",
    "\n",
    "    return custo_melhor, solucao_melhor"
   ]
  },
  {
   "cell_type": "code",
   "execution_count": 21,
   "metadata": {},
   "outputs": [
    {
     "name": "stdout",
     "output_type": "stream",
     "text": [
      "267.439    ['A0', 'A7', 'A9', 'A3', 'A1', 'A8', 'A4', 'A5', 'A2', 'A6']\n"
     ]
    },
    {
     "data": {
      "application/vnd.plotly.v1+json": {
       "config": {
        "plotlyServerURL": "https://plot.ly"
       },
       "data": [
        {
         "mode": "lines+markers+text",
         "name": "",
         "text": [
          "A0",
          "A7",
          "A9",
          "A3",
          "A1",
          "A8",
          "A4",
          "A5",
          "A2",
          "A6"
         ],
         "textposition": "bottom center",
         "type": "scatter",
         "x": [
          78.19665574708924,
          79.66840685430628,
          40.12421341029308,
          26.79287921917742,
          34.76403855273398,
          36.497645293016134,
          47.88676616926943,
          54.782487397908035,
          68.14184714132404,
          79.61398903937739
         ],
         "y": [
          76.67981910509941,
          60.93522750739645,
          34.12859933669195,
          38.876939051849384,
          80.73484982119504,
          82.46597586253631,
          67.63195327942998,
          60.85255430724214,
          34.15606004324721,
          13.71793350399159
         ]
        },
        {
         "mode": "lines+markers",
         "name": "",
         "type": "scatter",
         "x": [
          79.61398903937739,
          78.19665574708924
         ],
         "y": [
          13.71793350399159,
          76.67981910509941
         ]
        }
       ],
       "layout": {
        "autosize": false,
        "height": 500,
        "showlegend": false,
        "template": {
         "data": {
          "bar": [
           {
            "error_x": {
             "color": "#2a3f5f"
            },
            "error_y": {
             "color": "#2a3f5f"
            },
            "marker": {
             "line": {
              "color": "#E5ECF6",
              "width": 0.5
             },
             "pattern": {
              "fillmode": "overlay",
              "size": 10,
              "solidity": 0.2
             }
            },
            "type": "bar"
           }
          ],
          "barpolar": [
           {
            "marker": {
             "line": {
              "color": "#E5ECF6",
              "width": 0.5
             },
             "pattern": {
              "fillmode": "overlay",
              "size": 10,
              "solidity": 0.2
             }
            },
            "type": "barpolar"
           }
          ],
          "carpet": [
           {
            "aaxis": {
             "endlinecolor": "#2a3f5f",
             "gridcolor": "white",
             "linecolor": "white",
             "minorgridcolor": "white",
             "startlinecolor": "#2a3f5f"
            },
            "baxis": {
             "endlinecolor": "#2a3f5f",
             "gridcolor": "white",
             "linecolor": "white",
             "minorgridcolor": "white",
             "startlinecolor": "#2a3f5f"
            },
            "type": "carpet"
           }
          ],
          "choropleth": [
           {
            "colorbar": {
             "outlinewidth": 0,
             "ticks": ""
            },
            "type": "choropleth"
           }
          ],
          "contour": [
           {
            "colorbar": {
             "outlinewidth": 0,
             "ticks": ""
            },
            "colorscale": [
             [
              0,
              "#0d0887"
             ],
             [
              0.1111111111111111,
              "#46039f"
             ],
             [
              0.2222222222222222,
              "#7201a8"
             ],
             [
              0.3333333333333333,
              "#9c179e"
             ],
             [
              0.4444444444444444,
              "#bd3786"
             ],
             [
              0.5555555555555556,
              "#d8576b"
             ],
             [
              0.6666666666666666,
              "#ed7953"
             ],
             [
              0.7777777777777778,
              "#fb9f3a"
             ],
             [
              0.8888888888888888,
              "#fdca26"
             ],
             [
              1,
              "#f0f921"
             ]
            ],
            "type": "contour"
           }
          ],
          "contourcarpet": [
           {
            "colorbar": {
             "outlinewidth": 0,
             "ticks": ""
            },
            "type": "contourcarpet"
           }
          ],
          "heatmap": [
           {
            "colorbar": {
             "outlinewidth": 0,
             "ticks": ""
            },
            "colorscale": [
             [
              0,
              "#0d0887"
             ],
             [
              0.1111111111111111,
              "#46039f"
             ],
             [
              0.2222222222222222,
              "#7201a8"
             ],
             [
              0.3333333333333333,
              "#9c179e"
             ],
             [
              0.4444444444444444,
              "#bd3786"
             ],
             [
              0.5555555555555556,
              "#d8576b"
             ],
             [
              0.6666666666666666,
              "#ed7953"
             ],
             [
              0.7777777777777778,
              "#fb9f3a"
             ],
             [
              0.8888888888888888,
              "#fdca26"
             ],
             [
              1,
              "#f0f921"
             ]
            ],
            "type": "heatmap"
           }
          ],
          "heatmapgl": [
           {
            "colorbar": {
             "outlinewidth": 0,
             "ticks": ""
            },
            "colorscale": [
             [
              0,
              "#0d0887"
             ],
             [
              0.1111111111111111,
              "#46039f"
             ],
             [
              0.2222222222222222,
              "#7201a8"
             ],
             [
              0.3333333333333333,
              "#9c179e"
             ],
             [
              0.4444444444444444,
              "#bd3786"
             ],
             [
              0.5555555555555556,
              "#d8576b"
             ],
             [
              0.6666666666666666,
              "#ed7953"
             ],
             [
              0.7777777777777778,
              "#fb9f3a"
             ],
             [
              0.8888888888888888,
              "#fdca26"
             ],
             [
              1,
              "#f0f921"
             ]
            ],
            "type": "heatmapgl"
           }
          ],
          "histogram": [
           {
            "marker": {
             "pattern": {
              "fillmode": "overlay",
              "size": 10,
              "solidity": 0.2
             }
            },
            "type": "histogram"
           }
          ],
          "histogram2d": [
           {
            "colorbar": {
             "outlinewidth": 0,
             "ticks": ""
            },
            "colorscale": [
             [
              0,
              "#0d0887"
             ],
             [
              0.1111111111111111,
              "#46039f"
             ],
             [
              0.2222222222222222,
              "#7201a8"
             ],
             [
              0.3333333333333333,
              "#9c179e"
             ],
             [
              0.4444444444444444,
              "#bd3786"
             ],
             [
              0.5555555555555556,
              "#d8576b"
             ],
             [
              0.6666666666666666,
              "#ed7953"
             ],
             [
              0.7777777777777778,
              "#fb9f3a"
             ],
             [
              0.8888888888888888,
              "#fdca26"
             ],
             [
              1,
              "#f0f921"
             ]
            ],
            "type": "histogram2d"
           }
          ],
          "histogram2dcontour": [
           {
            "colorbar": {
             "outlinewidth": 0,
             "ticks": ""
            },
            "colorscale": [
             [
              0,
              "#0d0887"
             ],
             [
              0.1111111111111111,
              "#46039f"
             ],
             [
              0.2222222222222222,
              "#7201a8"
             ],
             [
              0.3333333333333333,
              "#9c179e"
             ],
             [
              0.4444444444444444,
              "#bd3786"
             ],
             [
              0.5555555555555556,
              "#d8576b"
             ],
             [
              0.6666666666666666,
              "#ed7953"
             ],
             [
              0.7777777777777778,
              "#fb9f3a"
             ],
             [
              0.8888888888888888,
              "#fdca26"
             ],
             [
              1,
              "#f0f921"
             ]
            ],
            "type": "histogram2dcontour"
           }
          ],
          "mesh3d": [
           {
            "colorbar": {
             "outlinewidth": 0,
             "ticks": ""
            },
            "type": "mesh3d"
           }
          ],
          "parcoords": [
           {
            "line": {
             "colorbar": {
              "outlinewidth": 0,
              "ticks": ""
             }
            },
            "type": "parcoords"
           }
          ],
          "pie": [
           {
            "automargin": true,
            "type": "pie"
           }
          ],
          "scatter": [
           {
            "fillpattern": {
             "fillmode": "overlay",
             "size": 10,
             "solidity": 0.2
            },
            "type": "scatter"
           }
          ],
          "scatter3d": [
           {
            "line": {
             "colorbar": {
              "outlinewidth": 0,
              "ticks": ""
             }
            },
            "marker": {
             "colorbar": {
              "outlinewidth": 0,
              "ticks": ""
             }
            },
            "type": "scatter3d"
           }
          ],
          "scattercarpet": [
           {
            "marker": {
             "colorbar": {
              "outlinewidth": 0,
              "ticks": ""
             }
            },
            "type": "scattercarpet"
           }
          ],
          "scattergeo": [
           {
            "marker": {
             "colorbar": {
              "outlinewidth": 0,
              "ticks": ""
             }
            },
            "type": "scattergeo"
           }
          ],
          "scattergl": [
           {
            "marker": {
             "colorbar": {
              "outlinewidth": 0,
              "ticks": ""
             }
            },
            "type": "scattergl"
           }
          ],
          "scattermapbox": [
           {
            "marker": {
             "colorbar": {
              "outlinewidth": 0,
              "ticks": ""
             }
            },
            "type": "scattermapbox"
           }
          ],
          "scatterpolar": [
           {
            "marker": {
             "colorbar": {
              "outlinewidth": 0,
              "ticks": ""
             }
            },
            "type": "scatterpolar"
           }
          ],
          "scatterpolargl": [
           {
            "marker": {
             "colorbar": {
              "outlinewidth": 0,
              "ticks": ""
             }
            },
            "type": "scatterpolargl"
           }
          ],
          "scatterternary": [
           {
            "marker": {
             "colorbar": {
              "outlinewidth": 0,
              "ticks": ""
             }
            },
            "type": "scatterternary"
           }
          ],
          "surface": [
           {
            "colorbar": {
             "outlinewidth": 0,
             "ticks": ""
            },
            "colorscale": [
             [
              0,
              "#0d0887"
             ],
             [
              0.1111111111111111,
              "#46039f"
             ],
             [
              0.2222222222222222,
              "#7201a8"
             ],
             [
              0.3333333333333333,
              "#9c179e"
             ],
             [
              0.4444444444444444,
              "#bd3786"
             ],
             [
              0.5555555555555556,
              "#d8576b"
             ],
             [
              0.6666666666666666,
              "#ed7953"
             ],
             [
              0.7777777777777778,
              "#fb9f3a"
             ],
             [
              0.8888888888888888,
              "#fdca26"
             ],
             [
              1,
              "#f0f921"
             ]
            ],
            "type": "surface"
           }
          ],
          "table": [
           {
            "cells": {
             "fill": {
              "color": "#EBF0F8"
             },
             "line": {
              "color": "white"
             }
            },
            "header": {
             "fill": {
              "color": "#C8D4E3"
             },
             "line": {
              "color": "white"
             }
            },
            "type": "table"
           }
          ]
         },
         "layout": {
          "annotationdefaults": {
           "arrowcolor": "#2a3f5f",
           "arrowhead": 0,
           "arrowwidth": 1
          },
          "autotypenumbers": "strict",
          "coloraxis": {
           "colorbar": {
            "outlinewidth": 0,
            "ticks": ""
           }
          },
          "colorscale": {
           "diverging": [
            [
             0,
             "#8e0152"
            ],
            [
             0.1,
             "#c51b7d"
            ],
            [
             0.2,
             "#de77ae"
            ],
            [
             0.3,
             "#f1b6da"
            ],
            [
             0.4,
             "#fde0ef"
            ],
            [
             0.5,
             "#f7f7f7"
            ],
            [
             0.6,
             "#e6f5d0"
            ],
            [
             0.7,
             "#b8e186"
            ],
            [
             0.8,
             "#7fbc41"
            ],
            [
             0.9,
             "#4d9221"
            ],
            [
             1,
             "#276419"
            ]
           ],
           "sequential": [
            [
             0,
             "#0d0887"
            ],
            [
             0.1111111111111111,
             "#46039f"
            ],
            [
             0.2222222222222222,
             "#7201a8"
            ],
            [
             0.3333333333333333,
             "#9c179e"
            ],
            [
             0.4444444444444444,
             "#bd3786"
            ],
            [
             0.5555555555555556,
             "#d8576b"
            ],
            [
             0.6666666666666666,
             "#ed7953"
            ],
            [
             0.7777777777777778,
             "#fb9f3a"
            ],
            [
             0.8888888888888888,
             "#fdca26"
            ],
            [
             1,
             "#f0f921"
            ]
           ],
           "sequentialminus": [
            [
             0,
             "#0d0887"
            ],
            [
             0.1111111111111111,
             "#46039f"
            ],
            [
             0.2222222222222222,
             "#7201a8"
            ],
            [
             0.3333333333333333,
             "#9c179e"
            ],
            [
             0.4444444444444444,
             "#bd3786"
            ],
            [
             0.5555555555555556,
             "#d8576b"
            ],
            [
             0.6666666666666666,
             "#ed7953"
            ],
            [
             0.7777777777777778,
             "#fb9f3a"
            ],
            [
             0.8888888888888888,
             "#fdca26"
            ],
            [
             1,
             "#f0f921"
            ]
           ]
          },
          "colorway": [
           "#636efa",
           "#EF553B",
           "#00cc96",
           "#ab63fa",
           "#FFA15A",
           "#19d3f3",
           "#FF6692",
           "#B6E880",
           "#FF97FF",
           "#FECB52"
          ],
          "font": {
           "color": "#2a3f5f"
          },
          "geo": {
           "bgcolor": "white",
           "lakecolor": "white",
           "landcolor": "#E5ECF6",
           "showlakes": true,
           "showland": true,
           "subunitcolor": "white"
          },
          "hoverlabel": {
           "align": "left"
          },
          "hovermode": "closest",
          "mapbox": {
           "style": "light"
          },
          "paper_bgcolor": "white",
          "plot_bgcolor": "#E5ECF6",
          "polar": {
           "angularaxis": {
            "gridcolor": "white",
            "linecolor": "white",
            "ticks": ""
           },
           "bgcolor": "#E5ECF6",
           "radialaxis": {
            "gridcolor": "white",
            "linecolor": "white",
            "ticks": ""
           }
          },
          "scene": {
           "xaxis": {
            "backgroundcolor": "#E5ECF6",
            "gridcolor": "white",
            "gridwidth": 2,
            "linecolor": "white",
            "showbackground": true,
            "ticks": "",
            "zerolinecolor": "white"
           },
           "yaxis": {
            "backgroundcolor": "#E5ECF6",
            "gridcolor": "white",
            "gridwidth": 2,
            "linecolor": "white",
            "showbackground": true,
            "ticks": "",
            "zerolinecolor": "white"
           },
           "zaxis": {
            "backgroundcolor": "#E5ECF6",
            "gridcolor": "white",
            "gridwidth": 2,
            "linecolor": "white",
            "showbackground": true,
            "ticks": "",
            "zerolinecolor": "white"
           }
          },
          "shapedefaults": {
           "line": {
            "color": "#2a3f5f"
           }
          },
          "ternary": {
           "aaxis": {
            "gridcolor": "white",
            "linecolor": "white",
            "ticks": ""
           },
           "baxis": {
            "gridcolor": "white",
            "linecolor": "white",
            "ticks": ""
           },
           "bgcolor": "#E5ECF6",
           "caxis": {
            "gridcolor": "white",
            "linecolor": "white",
            "ticks": ""
           }
          },
          "title": {
           "x": 0.05
          },
          "xaxis": {
           "automargin": true,
           "gridcolor": "white",
           "linecolor": "white",
           "ticks": "",
           "title": {
            "standoff": 15
           },
           "zerolinecolor": "white",
           "zerolinewidth": 2
          },
          "yaxis": {
           "automargin": true,
           "gridcolor": "white",
           "linecolor": "white",
           "ticks": "",
           "title": {
            "standoff": 15
           },
           "zerolinecolor": "white",
           "zerolinewidth": 2
          }
         }
        },
        "width": 500
       }
      }
     },
     "metadata": {},
     "output_type": "display_data"
    }
   ],
   "source": [
    "custo, solucao = hill_climbing(tsp)\n",
    "\n",
    "print(f'{custo:7.3f}    {solucao}')\n",
    "\n",
    "plota_rotas(df_coordenadas, solucao)"
   ]
  },
  {
   "cell_type": "code",
   "execution_count": 22,
   "metadata": {},
   "outputs": [
    {
     "name": "stdout",
     "output_type": "stream",
     "text": [
      "256.044    ['A0', 'A2', 'A6', 'A9', 'A3', 'A5', 'A4', 'A1', 'A8', 'A7']\n"
     ]
    },
    {
     "data": {
      "application/vnd.plotly.v1+json": {
       "config": {
        "plotlyServerURL": "https://plot.ly"
       },
       "data": [
        {
         "mode": "lines+markers+text",
         "name": "",
         "text": [
          "A0",
          "A2",
          "A6",
          "A9",
          "A3",
          "A5",
          "A4",
          "A1",
          "A8",
          "A7"
         ],
         "textposition": "bottom center",
         "type": "scatter",
         "x": [
          78.19665574708924,
          68.14184714132404,
          79.61398903937739,
          40.12421341029308,
          26.79287921917742,
          54.782487397908035,
          47.88676616926943,
          34.76403855273398,
          36.497645293016134,
          79.66840685430628
         ],
         "y": [
          76.67981910509941,
          34.15606004324721,
          13.71793350399159,
          34.12859933669195,
          38.876939051849384,
          60.85255430724214,
          67.63195327942998,
          80.73484982119504,
          82.46597586253631,
          60.93522750739645
         ]
        },
        {
         "mode": "lines+markers",
         "name": "",
         "type": "scatter",
         "x": [
          79.66840685430628,
          78.19665574708924
         ],
         "y": [
          60.93522750739645,
          76.67981910509941
         ]
        }
       ],
       "layout": {
        "autosize": false,
        "height": 500,
        "showlegend": false,
        "template": {
         "data": {
          "bar": [
           {
            "error_x": {
             "color": "#2a3f5f"
            },
            "error_y": {
             "color": "#2a3f5f"
            },
            "marker": {
             "line": {
              "color": "#E5ECF6",
              "width": 0.5
             },
             "pattern": {
              "fillmode": "overlay",
              "size": 10,
              "solidity": 0.2
             }
            },
            "type": "bar"
           }
          ],
          "barpolar": [
           {
            "marker": {
             "line": {
              "color": "#E5ECF6",
              "width": 0.5
             },
             "pattern": {
              "fillmode": "overlay",
              "size": 10,
              "solidity": 0.2
             }
            },
            "type": "barpolar"
           }
          ],
          "carpet": [
           {
            "aaxis": {
             "endlinecolor": "#2a3f5f",
             "gridcolor": "white",
             "linecolor": "white",
             "minorgridcolor": "white",
             "startlinecolor": "#2a3f5f"
            },
            "baxis": {
             "endlinecolor": "#2a3f5f",
             "gridcolor": "white",
             "linecolor": "white",
             "minorgridcolor": "white",
             "startlinecolor": "#2a3f5f"
            },
            "type": "carpet"
           }
          ],
          "choropleth": [
           {
            "colorbar": {
             "outlinewidth": 0,
             "ticks": ""
            },
            "type": "choropleth"
           }
          ],
          "contour": [
           {
            "colorbar": {
             "outlinewidth": 0,
             "ticks": ""
            },
            "colorscale": [
             [
              0,
              "#0d0887"
             ],
             [
              0.1111111111111111,
              "#46039f"
             ],
             [
              0.2222222222222222,
              "#7201a8"
             ],
             [
              0.3333333333333333,
              "#9c179e"
             ],
             [
              0.4444444444444444,
              "#bd3786"
             ],
             [
              0.5555555555555556,
              "#d8576b"
             ],
             [
              0.6666666666666666,
              "#ed7953"
             ],
             [
              0.7777777777777778,
              "#fb9f3a"
             ],
             [
              0.8888888888888888,
              "#fdca26"
             ],
             [
              1,
              "#f0f921"
             ]
            ],
            "type": "contour"
           }
          ],
          "contourcarpet": [
           {
            "colorbar": {
             "outlinewidth": 0,
             "ticks": ""
            },
            "type": "contourcarpet"
           }
          ],
          "heatmap": [
           {
            "colorbar": {
             "outlinewidth": 0,
             "ticks": ""
            },
            "colorscale": [
             [
              0,
              "#0d0887"
             ],
             [
              0.1111111111111111,
              "#46039f"
             ],
             [
              0.2222222222222222,
              "#7201a8"
             ],
             [
              0.3333333333333333,
              "#9c179e"
             ],
             [
              0.4444444444444444,
              "#bd3786"
             ],
             [
              0.5555555555555556,
              "#d8576b"
             ],
             [
              0.6666666666666666,
              "#ed7953"
             ],
             [
              0.7777777777777778,
              "#fb9f3a"
             ],
             [
              0.8888888888888888,
              "#fdca26"
             ],
             [
              1,
              "#f0f921"
             ]
            ],
            "type": "heatmap"
           }
          ],
          "heatmapgl": [
           {
            "colorbar": {
             "outlinewidth": 0,
             "ticks": ""
            },
            "colorscale": [
             [
              0,
              "#0d0887"
             ],
             [
              0.1111111111111111,
              "#46039f"
             ],
             [
              0.2222222222222222,
              "#7201a8"
             ],
             [
              0.3333333333333333,
              "#9c179e"
             ],
             [
              0.4444444444444444,
              "#bd3786"
             ],
             [
              0.5555555555555556,
              "#d8576b"
             ],
             [
              0.6666666666666666,
              "#ed7953"
             ],
             [
              0.7777777777777778,
              "#fb9f3a"
             ],
             [
              0.8888888888888888,
              "#fdca26"
             ],
             [
              1,
              "#f0f921"
             ]
            ],
            "type": "heatmapgl"
           }
          ],
          "histogram": [
           {
            "marker": {
             "pattern": {
              "fillmode": "overlay",
              "size": 10,
              "solidity": 0.2
             }
            },
            "type": "histogram"
           }
          ],
          "histogram2d": [
           {
            "colorbar": {
             "outlinewidth": 0,
             "ticks": ""
            },
            "colorscale": [
             [
              0,
              "#0d0887"
             ],
             [
              0.1111111111111111,
              "#46039f"
             ],
             [
              0.2222222222222222,
              "#7201a8"
             ],
             [
              0.3333333333333333,
              "#9c179e"
             ],
             [
              0.4444444444444444,
              "#bd3786"
             ],
             [
              0.5555555555555556,
              "#d8576b"
             ],
             [
              0.6666666666666666,
              "#ed7953"
             ],
             [
              0.7777777777777778,
              "#fb9f3a"
             ],
             [
              0.8888888888888888,
              "#fdca26"
             ],
             [
              1,
              "#f0f921"
             ]
            ],
            "type": "histogram2d"
           }
          ],
          "histogram2dcontour": [
           {
            "colorbar": {
             "outlinewidth": 0,
             "ticks": ""
            },
            "colorscale": [
             [
              0,
              "#0d0887"
             ],
             [
              0.1111111111111111,
              "#46039f"
             ],
             [
              0.2222222222222222,
              "#7201a8"
             ],
             [
              0.3333333333333333,
              "#9c179e"
             ],
             [
              0.4444444444444444,
              "#bd3786"
             ],
             [
              0.5555555555555556,
              "#d8576b"
             ],
             [
              0.6666666666666666,
              "#ed7953"
             ],
             [
              0.7777777777777778,
              "#fb9f3a"
             ],
             [
              0.8888888888888888,
              "#fdca26"
             ],
             [
              1,
              "#f0f921"
             ]
            ],
            "type": "histogram2dcontour"
           }
          ],
          "mesh3d": [
           {
            "colorbar": {
             "outlinewidth": 0,
             "ticks": ""
            },
            "type": "mesh3d"
           }
          ],
          "parcoords": [
           {
            "line": {
             "colorbar": {
              "outlinewidth": 0,
              "ticks": ""
             }
            },
            "type": "parcoords"
           }
          ],
          "pie": [
           {
            "automargin": true,
            "type": "pie"
           }
          ],
          "scatter": [
           {
            "fillpattern": {
             "fillmode": "overlay",
             "size": 10,
             "solidity": 0.2
            },
            "type": "scatter"
           }
          ],
          "scatter3d": [
           {
            "line": {
             "colorbar": {
              "outlinewidth": 0,
              "ticks": ""
             }
            },
            "marker": {
             "colorbar": {
              "outlinewidth": 0,
              "ticks": ""
             }
            },
            "type": "scatter3d"
           }
          ],
          "scattercarpet": [
           {
            "marker": {
             "colorbar": {
              "outlinewidth": 0,
              "ticks": ""
             }
            },
            "type": "scattercarpet"
           }
          ],
          "scattergeo": [
           {
            "marker": {
             "colorbar": {
              "outlinewidth": 0,
              "ticks": ""
             }
            },
            "type": "scattergeo"
           }
          ],
          "scattergl": [
           {
            "marker": {
             "colorbar": {
              "outlinewidth": 0,
              "ticks": ""
             }
            },
            "type": "scattergl"
           }
          ],
          "scattermapbox": [
           {
            "marker": {
             "colorbar": {
              "outlinewidth": 0,
              "ticks": ""
             }
            },
            "type": "scattermapbox"
           }
          ],
          "scatterpolar": [
           {
            "marker": {
             "colorbar": {
              "outlinewidth": 0,
              "ticks": ""
             }
            },
            "type": "scatterpolar"
           }
          ],
          "scatterpolargl": [
           {
            "marker": {
             "colorbar": {
              "outlinewidth": 0,
              "ticks": ""
             }
            },
            "type": "scatterpolargl"
           }
          ],
          "scatterternary": [
           {
            "marker": {
             "colorbar": {
              "outlinewidth": 0,
              "ticks": ""
             }
            },
            "type": "scatterternary"
           }
          ],
          "surface": [
           {
            "colorbar": {
             "outlinewidth": 0,
             "ticks": ""
            },
            "colorscale": [
             [
              0,
              "#0d0887"
             ],
             [
              0.1111111111111111,
              "#46039f"
             ],
             [
              0.2222222222222222,
              "#7201a8"
             ],
             [
              0.3333333333333333,
              "#9c179e"
             ],
             [
              0.4444444444444444,
              "#bd3786"
             ],
             [
              0.5555555555555556,
              "#d8576b"
             ],
             [
              0.6666666666666666,
              "#ed7953"
             ],
             [
              0.7777777777777778,
              "#fb9f3a"
             ],
             [
              0.8888888888888888,
              "#fdca26"
             ],
             [
              1,
              "#f0f921"
             ]
            ],
            "type": "surface"
           }
          ],
          "table": [
           {
            "cells": {
             "fill": {
              "color": "#EBF0F8"
             },
             "line": {
              "color": "white"
             }
            },
            "header": {
             "fill": {
              "color": "#C8D4E3"
             },
             "line": {
              "color": "white"
             }
            },
            "type": "table"
           }
          ]
         },
         "layout": {
          "annotationdefaults": {
           "arrowcolor": "#2a3f5f",
           "arrowhead": 0,
           "arrowwidth": 1
          },
          "autotypenumbers": "strict",
          "coloraxis": {
           "colorbar": {
            "outlinewidth": 0,
            "ticks": ""
           }
          },
          "colorscale": {
           "diverging": [
            [
             0,
             "#8e0152"
            ],
            [
             0.1,
             "#c51b7d"
            ],
            [
             0.2,
             "#de77ae"
            ],
            [
             0.3,
             "#f1b6da"
            ],
            [
             0.4,
             "#fde0ef"
            ],
            [
             0.5,
             "#f7f7f7"
            ],
            [
             0.6,
             "#e6f5d0"
            ],
            [
             0.7,
             "#b8e186"
            ],
            [
             0.8,
             "#7fbc41"
            ],
            [
             0.9,
             "#4d9221"
            ],
            [
             1,
             "#276419"
            ]
           ],
           "sequential": [
            [
             0,
             "#0d0887"
            ],
            [
             0.1111111111111111,
             "#46039f"
            ],
            [
             0.2222222222222222,
             "#7201a8"
            ],
            [
             0.3333333333333333,
             "#9c179e"
            ],
            [
             0.4444444444444444,
             "#bd3786"
            ],
            [
             0.5555555555555556,
             "#d8576b"
            ],
            [
             0.6666666666666666,
             "#ed7953"
            ],
            [
             0.7777777777777778,
             "#fb9f3a"
            ],
            [
             0.8888888888888888,
             "#fdca26"
            ],
            [
             1,
             "#f0f921"
            ]
           ],
           "sequentialminus": [
            [
             0,
             "#0d0887"
            ],
            [
             0.1111111111111111,
             "#46039f"
            ],
            [
             0.2222222222222222,
             "#7201a8"
            ],
            [
             0.3333333333333333,
             "#9c179e"
            ],
            [
             0.4444444444444444,
             "#bd3786"
            ],
            [
             0.5555555555555556,
             "#d8576b"
            ],
            [
             0.6666666666666666,
             "#ed7953"
            ],
            [
             0.7777777777777778,
             "#fb9f3a"
            ],
            [
             0.8888888888888888,
             "#fdca26"
            ],
            [
             1,
             "#f0f921"
            ]
           ]
          },
          "colorway": [
           "#636efa",
           "#EF553B",
           "#00cc96",
           "#ab63fa",
           "#FFA15A",
           "#19d3f3",
           "#FF6692",
           "#B6E880",
           "#FF97FF",
           "#FECB52"
          ],
          "font": {
           "color": "#2a3f5f"
          },
          "geo": {
           "bgcolor": "white",
           "lakecolor": "white",
           "landcolor": "#E5ECF6",
           "showlakes": true,
           "showland": true,
           "subunitcolor": "white"
          },
          "hoverlabel": {
           "align": "left"
          },
          "hovermode": "closest",
          "mapbox": {
           "style": "light"
          },
          "paper_bgcolor": "white",
          "plot_bgcolor": "#E5ECF6",
          "polar": {
           "angularaxis": {
            "gridcolor": "white",
            "linecolor": "white",
            "ticks": ""
           },
           "bgcolor": "#E5ECF6",
           "radialaxis": {
            "gridcolor": "white",
            "linecolor": "white",
            "ticks": ""
           }
          },
          "scene": {
           "xaxis": {
            "backgroundcolor": "#E5ECF6",
            "gridcolor": "white",
            "gridwidth": 2,
            "linecolor": "white",
            "showbackground": true,
            "ticks": "",
            "zerolinecolor": "white"
           },
           "yaxis": {
            "backgroundcolor": "#E5ECF6",
            "gridcolor": "white",
            "gridwidth": 2,
            "linecolor": "white",
            "showbackground": true,
            "ticks": "",
            "zerolinecolor": "white"
           },
           "zaxis": {
            "backgroundcolor": "#E5ECF6",
            "gridcolor": "white",
            "gridwidth": 2,
            "linecolor": "white",
            "showbackground": true,
            "ticks": "",
            "zerolinecolor": "white"
           }
          },
          "shapedefaults": {
           "line": {
            "color": "#2a3f5f"
           }
          },
          "ternary": {
           "aaxis": {
            "gridcolor": "white",
            "linecolor": "white",
            "ticks": ""
           },
           "baxis": {
            "gridcolor": "white",
            "linecolor": "white",
            "ticks": ""
           },
           "bgcolor": "#E5ECF6",
           "caxis": {
            "gridcolor": "white",
            "linecolor": "white",
            "ticks": ""
           }
          },
          "title": {
           "x": 0.05
          },
          "xaxis": {
           "automargin": true,
           "gridcolor": "white",
           "linecolor": "white",
           "ticks": "",
           "title": {
            "standoff": 15
           },
           "zerolinecolor": "white",
           "zerolinewidth": 2
          },
          "yaxis": {
           "automargin": true,
           "gridcolor": "white",
           "linecolor": "white",
           "ticks": "",
           "title": {
            "standoff": 15
           },
           "zerolinecolor": "white",
           "zerolinewidth": 2
          }
         }
        },
        "width": 500
       }
      }
     },
     "metadata": {},
     "output_type": "display_data"
    }
   ],
   "source": [
    "custo, solucao = hill_climbing_restart(tsp)\n",
    "\n",
    "print(f'{custo:7.3f}    {solucao}')\n",
    "\n",
    "plota_rotas(df_coordenadas, solucao)"
   ]
  },
  {
   "cell_type": "code",
   "execution_count": 23,
   "metadata": {},
   "outputs": [
    {
     "name": "stdout",
     "output_type": "stream",
     "text": [
      "239.870, ['A0', 'A7', 'A5', 'A4', 'A8', 'A1', 'A3', 'A9', 'A6', 'A2']\n",
      "262.251, ['A0', 'A5', 'A9', 'A3', 'A1', 'A8', 'A4', 'A2', 'A6', 'A7']\n",
      "247.987, ['A0', 'A7', 'A5', 'A2', 'A6', 'A9', 'A3', 'A1', 'A8', 'A4']\n",
      "235.359, ['A0', 'A7', 'A2', 'A6', 'A9', 'A3', 'A5', 'A4', 'A1', 'A8']\n",
      "257.016, ['A0', 'A8', 'A1', 'A3', 'A9', 'A6', 'A2', 'A5', 'A4', 'A7']\n",
      "228.704, ['A0', 'A7', 'A2', 'A6', 'A9', 'A3', 'A1', 'A8', 'A4', 'A5']\n",
      "235.359, ['A0', 'A7', 'A2', 'A6', 'A9', 'A3', 'A5', 'A4', 'A1', 'A8']\n",
      "228.704, ['A0', 'A7', 'A2', 'A6', 'A9', 'A3', 'A1', 'A8', 'A4', 'A5']\n",
      "247.987, ['A0', 'A4', 'A8', 'A1', 'A3', 'A9', 'A6', 'A2', 'A5', 'A7']\n",
      "239.870, ['A0', 'A7', 'A5', 'A4', 'A8', 'A1', 'A3', 'A9', 'A6', 'A2']\n",
      "257.763, ['A0', 'A7', 'A3', 'A9', 'A6', 'A2', 'A5', 'A4', 'A1', 'A8']\n",
      "228.704, ['A0', 'A5', 'A4', 'A8', 'A1', 'A3', 'A9', 'A6', 'A2', 'A7']\n",
      "257.763, ['A0', 'A8', 'A1', 'A4', 'A5', 'A2', 'A6', 'A9', 'A3', 'A7']\n",
      "257.763, ['A0', 'A8', 'A1', 'A4', 'A5', 'A2', 'A6', 'A9', 'A3', 'A7']\n",
      "262.251, ['A0', 'A7', 'A6', 'A2', 'A4', 'A8', 'A1', 'A3', 'A9', 'A5']\n",
      "247.987, ['A0', 'A7', 'A5', 'A2', 'A6', 'A9', 'A3', 'A1', 'A8', 'A4']\n",
      "257.763, ['A0', 'A7', 'A3', 'A9', 'A6', 'A2', 'A5', 'A4', 'A1', 'A8']\n",
      "228.704, ['A0', 'A5', 'A4', 'A8', 'A1', 'A3', 'A9', 'A6', 'A2', 'A7']\n",
      "257.763, ['A0', 'A7', 'A3', 'A9', 'A6', 'A2', 'A5', 'A4', 'A1', 'A8']\n",
      "235.359, ['A0', 'A8', 'A1', 'A4', 'A5', 'A3', 'A9', 'A6', 'A2', 'A7']\n",
      "235.359, ['A0', 'A7', 'A2', 'A6', 'A9', 'A3', 'A5', 'A4', 'A1', 'A8']\n",
      "235.359, ['A0', 'A7', 'A2', 'A6', 'A9', 'A3', 'A5', 'A4', 'A1', 'A8']\n",
      "228.704, ['A0', 'A7', 'A2', 'A6', 'A9', 'A3', 'A1', 'A8', 'A4', 'A5']\n",
      "239.870, ['A0', 'A7', 'A5', 'A4', 'A8', 'A1', 'A3', 'A9', 'A6', 'A2']\n",
      "228.704, ['A0', 'A7', 'A2', 'A6', 'A9', 'A3', 'A1', 'A8', 'A4', 'A5']\n",
      "239.870, ['A0', 'A2', 'A6', 'A9', 'A3', 'A1', 'A8', 'A4', 'A5', 'A7']\n",
      "262.251, ['A0', 'A5', 'A9', 'A3', 'A1', 'A8', 'A4', 'A2', 'A6', 'A7']\n",
      "247.987, ['A0', 'A7', 'A5', 'A2', 'A6', 'A9', 'A3', 'A1', 'A8', 'A4']\n",
      "270.422, ['A0', 'A3', 'A9', 'A6', 'A2', 'A5', 'A4', 'A1', 'A8', 'A7']\n",
      "257.016, ['A0', 'A8', 'A1', 'A3', 'A9', 'A6', 'A2', 'A5', 'A4', 'A7']\n"
     ]
    }
   ],
   "source": [
    "# Executando várias vezes de forma simples\n",
    "\n",
    "n_vezes = 30\n",
    "\n",
    "for _ in range(n_vezes):\n",
    "\n",
    "    #solucao, custo = random_walk(tsp)\n",
    "    custo, solucao = hill_climbing(tsp)\n",
    "    print(f'{custo:7.3f}, {solucao}')"
   ]
  },
  {
   "cell_type": "code",
   "execution_count": 24,
   "metadata": {},
   "outputs": [],
   "source": [
    "# Cria estruta de dados (DataFrame) para armazenar vários resultados\n",
    "# diferentes e visualizá-los através de estatísticas\n",
    "\n",
    "def cria_df_custos(algoritmos, n_vezes):\n",
    "\n",
    "    nomes_algoritmos  = algoritmos.keys()\n",
    "\n",
    "    n_lin = len(nomes_algoritmos)\n",
    "    n_col = n_vezes\n",
    "\n",
    "    df_results = pd.DataFrame(np.zeros((n_lin, n_col)),\n",
    "                              index=nomes_algoritmos)\n",
    "    df_results.index.name='ALGORITMO'\n",
    "\n",
    "    return df_results"
   ]
  },
  {
   "cell_type": "code",
   "execution_count": 25,
   "metadata": {},
   "outputs": [],
   "source": [
    "# Executa N vezes para gerar estatísticas da variável custo\n",
    "def executa_n_vezes(tsp, algoritmos, n_vezes):\n",
    "\n",
    "    # Cria DataFrame para armazenar os resultados\n",
    "    df_custo = cria_df_custos(algoritmos, n_vezes)\n",
    "\n",
    "    for algoritmo, funcao_algoritmo in algoritmos.items():\n",
    "\n",
    "        print(algoritmo)\n",
    "\n",
    "        for i in range(n_vezes):\n",
    "\n",
    "            custo, solucao = funcao_algoritmo(tsp)\n",
    "            df_custo.loc[algoritmo,i] = custo\n",
    "\n",
    "            print(f'{custo:10.3f}  {solucao}')\n",
    "\n",
    "    return df_custo"
   ]
  },
  {
   "cell_type": "code",
   "execution_count": 26,
   "metadata": {},
   "outputs": [],
   "source": [
    "# Dicionario com Nomes dos modelos e suas respectivas variantes\n",
    "# Tuple: (Algoritmo, Variante): funcao_algoritmo\n",
    "algoritmos = {\n",
    "    'Hill-Climbing Restart': hill_climbing_restart,\n",
    "    'Hill-Climbing': hill_climbing\n",
    "}"
   ]
  },
  {
   "cell_type": "code",
   "execution_count": 41,
   "metadata": {},
   "outputs": [
    {
     "name": "stdout",
     "output_type": "stream",
     "text": [
      "Hill-Climbing Restart\n",
      "   276.102  ['A0', 'A3', 'A4', 'A1', 'A5', 'A9', 'A6', 'A2', 'A7', 'A8']\n",
      "   262.881  ['A0', 'A8', 'A7', 'A3', 'A9', 'A5', 'A6', 'A2', 'A1', 'A4']\n",
      "   234.226  ['A0', 'A3', 'A9', 'A5', 'A1', 'A4', 'A2', 'A6', 'A7', 'A8']\n",
      "   235.902  ['A0', 'A8', 'A7', 'A4', 'A1', 'A2', 'A6', 'A5', 'A9', 'A3']\n",
      "   304.306  ['A0', 'A2', 'A1', 'A4', 'A7', 'A8', 'A6', 'A5', 'A9', 'A3']\n",
      "   262.881  ['A0', 'A8', 'A7', 'A3', 'A9', 'A5', 'A6', 'A2', 'A1', 'A4']\n",
      "   234.226  ['A0', 'A3', 'A9', 'A5', 'A1', 'A4', 'A2', 'A6', 'A7', 'A8']\n",
      "   304.961  ['A0', 'A6', 'A2', 'A1', 'A4', 'A7', 'A8', 'A5', 'A9', 'A3']\n",
      "   235.902  ['A0', 'A8', 'A7', 'A4', 'A1', 'A2', 'A6', 'A5', 'A9', 'A3']\n",
      "   235.902  ['A0', 'A3', 'A9', 'A5', 'A6', 'A2', 'A1', 'A4', 'A7', 'A8']\n",
      "   276.102  ['A0', 'A3', 'A4', 'A1', 'A5', 'A9', 'A6', 'A2', 'A7', 'A8']\n",
      "   250.245  ['A0', 'A8', 'A7', 'A3', 'A9', 'A5', 'A1', 'A4', 'A2', 'A6']\n",
      "   304.306  ['A0', 'A3', 'A9', 'A5', 'A6', 'A8', 'A7', 'A4', 'A1', 'A2']\n",
      "   317.481  ['A0', 'A6', 'A5', 'A9', 'A3', 'A8', 'A7', 'A4', 'A1', 'A2']\n",
      "   235.902  ['A0', 'A3', 'A9', 'A5', 'A6', 'A2', 'A1', 'A4', 'A7', 'A8']\n",
      "   267.818  ['A0', 'A8', 'A7', 'A3', 'A6', 'A2', 'A4', 'A1', 'A5', 'A9']\n",
      "   267.818  ['A0', 'A8', 'A7', 'A3', 'A6', 'A2', 'A4', 'A1', 'A5', 'A9']\n",
      "   282.744  ['A0', 'A4', 'A1', 'A5', 'A9', 'A3', 'A6', 'A2', 'A7', 'A8']\n",
      "   304.961  ['A0', 'A6', 'A2', 'A1', 'A4', 'A7', 'A8', 'A5', 'A9', 'A3']\n",
      "   304.961  ['A0', 'A3', 'A9', 'A5', 'A8', 'A7', 'A4', 'A1', 'A2', 'A6']\n",
      "   317.108  ['A0', 'A6', 'A2', 'A7', 'A8', 'A3', 'A9', 'A5', 'A1', 'A4']\n",
      "   276.102  ['A0', 'A3', 'A4', 'A1', 'A5', 'A9', 'A6', 'A2', 'A7', 'A8']\n",
      "   289.816  ['A0', 'A4', 'A1', 'A2', 'A5', 'A9', 'A3', 'A6', 'A7', 'A8']\n",
      "   310.948  ['A0', 'A3', 'A9', 'A5', 'A2', 'A6', 'A8', 'A7', 'A4', 'A1']\n",
      "   260.692  ['A0', 'A8', 'A7', 'A9', 'A5', 'A1', 'A4', 'A2', 'A6', 'A3']\n",
      "   260.692  ['A0', 'A3', 'A6', 'A2', 'A4', 'A1', 'A5', 'A9', 'A7', 'A8']\n",
      "   262.881  ['A0', 'A8', 'A7', 'A3', 'A9', 'A5', 'A6', 'A2', 'A1', 'A4']\n",
      "   235.902  ['A0', 'A3', 'A9', 'A5', 'A6', 'A2', 'A1', 'A4', 'A7', 'A8']\n",
      "   267.517  ['A0', 'A8', 'A3', 'A9', 'A5', 'A6', 'A2', 'A1', 'A4', 'A7']\n",
      "   235.902  ['A0', 'A3', 'A9', 'A5', 'A6', 'A2', 'A1', 'A4', 'A7', 'A8']\n",
      "   235.902  ['A0', 'A3', 'A9', 'A5', 'A6', 'A2', 'A1', 'A4', 'A7', 'A8']\n",
      "   234.226  ['A0', 'A3', 'A9', 'A5', 'A1', 'A4', 'A2', 'A6', 'A7', 'A8']\n",
      "   287.839  ['A0', 'A9', 'A5', 'A6', 'A2', 'A1', 'A4', 'A7', 'A8', 'A3']\n",
      "   234.226  ['A0', 'A8', 'A7', 'A6', 'A2', 'A4', 'A1', 'A5', 'A9', 'A3']\n",
      "   267.517  ['A0', 'A7', 'A4', 'A1', 'A2', 'A6', 'A5', 'A9', 'A3', 'A8']\n",
      "   260.692  ['A0', 'A8', 'A7', 'A9', 'A5', 'A1', 'A4', 'A2', 'A6', 'A3']\n",
      "   235.902  ['A0', 'A8', 'A7', 'A4', 'A1', 'A2', 'A6', 'A5', 'A9', 'A3']\n",
      "   304.961  ['A0', 'A6', 'A2', 'A1', 'A4', 'A7', 'A8', 'A5', 'A9', 'A3']\n",
      "   260.692  ['A0', 'A8', 'A7', 'A9', 'A5', 'A1', 'A4', 'A2', 'A6', 'A3']\n",
      "   250.245  ['A0', 'A6', 'A2', 'A4', 'A1', 'A5', 'A9', 'A3', 'A7', 'A8']\n",
      "   260.692  ['A0', 'A3', 'A6', 'A2', 'A4', 'A1', 'A5', 'A9', 'A7', 'A8']\n",
      "   235.902  ['A0', 'A8', 'A7', 'A4', 'A1', 'A2', 'A6', 'A5', 'A9', 'A3']\n",
      "   258.501  ['A0', 'A8', 'A7', 'A4', 'A1', 'A5', 'A9', 'A2', 'A6', 'A3']\n",
      "   276.102  ['A0', 'A8', 'A7', 'A2', 'A6', 'A9', 'A5', 'A1', 'A4', 'A3']\n",
      "   250.245  ['A0', 'A8', 'A7', 'A3', 'A9', 'A5', 'A1', 'A4', 'A2', 'A6']\n",
      "   250.245  ['A0', 'A8', 'A7', 'A3', 'A9', 'A5', 'A1', 'A4', 'A2', 'A6']\n",
      "   258.501  ['A0', 'A8', 'A7', 'A4', 'A1', 'A5', 'A9', 'A2', 'A6', 'A3']\n",
      "   258.501  ['A0', 'A3', 'A6', 'A2', 'A9', 'A5', 'A1', 'A4', 'A7', 'A8']\n",
      "   258.501  ['A0', 'A3', 'A6', 'A2', 'A9', 'A5', 'A1', 'A4', 'A7', 'A8']\n",
      "   267.818  ['A0', 'A9', 'A5', 'A1', 'A4', 'A2', 'A6', 'A3', 'A7', 'A8']\n",
      "   282.744  ['A0', 'A8', 'A7', 'A2', 'A6', 'A3', 'A9', 'A5', 'A1', 'A4']\n",
      "   267.818  ['A0', 'A9', 'A5', 'A1', 'A4', 'A2', 'A6', 'A3', 'A7', 'A8']\n",
      "   260.692  ['A0', 'A8', 'A7', 'A9', 'A5', 'A1', 'A4', 'A2', 'A6', 'A3']\n",
      "   250.245  ['A0', 'A8', 'A7', 'A3', 'A9', 'A5', 'A1', 'A4', 'A2', 'A6']\n",
      "   267.818  ['A0', 'A8', 'A7', 'A3', 'A6', 'A2', 'A4', 'A1', 'A5', 'A9']\n",
      "   235.902  ['A0', 'A3', 'A9', 'A5', 'A6', 'A2', 'A1', 'A4', 'A7', 'A8']\n",
      "   235.902  ['A0', 'A8', 'A7', 'A4', 'A1', 'A2', 'A6', 'A5', 'A9', 'A3']\n",
      "   235.902  ['A0', 'A3', 'A9', 'A5', 'A6', 'A2', 'A1', 'A4', 'A7', 'A8']\n",
      "   304.961  ['A0', 'A6', 'A2', 'A1', 'A4', 'A7', 'A8', 'A5', 'A9', 'A3']\n",
      "   276.102  ['A0', 'A3', 'A4', 'A1', 'A5', 'A9', 'A6', 'A2', 'A7', 'A8']\n",
      "   267.818  ['A0', 'A8', 'A7', 'A3', 'A6', 'A2', 'A4', 'A1', 'A5', 'A9']\n",
      "   235.902  ['A0', 'A8', 'A7', 'A4', 'A1', 'A2', 'A6', 'A5', 'A9', 'A3']\n",
      "   234.226  ['A0', 'A3', 'A9', 'A5', 'A1', 'A4', 'A2', 'A6', 'A7', 'A8']\n",
      "   287.839  ['A0', 'A9', 'A5', 'A6', 'A2', 'A1', 'A4', 'A7', 'A8', 'A3']\n",
      "   304.961  ['A0', 'A3', 'A9', 'A5', 'A8', 'A7', 'A4', 'A1', 'A2', 'A6']\n",
      "   234.226  ['A0', 'A3', 'A9', 'A5', 'A1', 'A4', 'A2', 'A6', 'A7', 'A8']\n",
      "   262.881  ['A0', 'A4', 'A1', 'A2', 'A6', 'A5', 'A9', 'A3', 'A7', 'A8']\n",
      "   235.902  ['A0', 'A8', 'A7', 'A4', 'A1', 'A2', 'A6', 'A5', 'A9', 'A3']\n",
      "   282.744  ['A0', 'A8', 'A7', 'A2', 'A6', 'A3', 'A9', 'A5', 'A1', 'A4']\n",
      "   276.102  ['A0', 'A3', 'A4', 'A1', 'A5', 'A9', 'A6', 'A2', 'A7', 'A8']\n",
      "   267.517  ['A0', 'A7', 'A4', 'A1', 'A2', 'A6', 'A5', 'A9', 'A3', 'A8']\n",
      "   267.818  ['A0', 'A9', 'A5', 'A1', 'A4', 'A2', 'A6', 'A3', 'A7', 'A8']\n",
      "   267.517  ['A0', 'A7', 'A4', 'A1', 'A2', 'A6', 'A5', 'A9', 'A3', 'A8']\n",
      "   304.961  ['A0', 'A3', 'A9', 'A5', 'A8', 'A7', 'A4', 'A1', 'A2', 'A6']\n",
      "   267.818  ['A0', 'A9', 'A5', 'A1', 'A4', 'A2', 'A6', 'A3', 'A7', 'A8']\n",
      "   282.744  ['A0', 'A8', 'A7', 'A2', 'A6', 'A3', 'A9', 'A5', 'A1', 'A4']\n",
      "   282.744  ['A0', 'A4', 'A1', 'A5', 'A9', 'A3', 'A6', 'A2', 'A7', 'A8']\n",
      "   293.629  ['A0', 'A6', 'A2', 'A8', 'A7', 'A4', 'A1', 'A5', 'A9', 'A3']\n",
      "   262.881  ['A0', 'A8', 'A7', 'A3', 'A9', 'A5', 'A6', 'A2', 'A1', 'A4']\n",
      "   282.744  ['A0', 'A4', 'A1', 'A5', 'A9', 'A3', 'A6', 'A2', 'A7', 'A8']\n",
      "   262.881  ['A0', 'A8', 'A7', 'A3', 'A9', 'A5', 'A6', 'A2', 'A1', 'A4']\n",
      "   234.226  ['A0', 'A3', 'A9', 'A5', 'A1', 'A4', 'A2', 'A6', 'A7', 'A8']\n",
      "   250.245  ['A0', 'A6', 'A2', 'A4', 'A1', 'A5', 'A9', 'A3', 'A7', 'A8']\n",
      "   282.744  ['A0', 'A8', 'A7', 'A2', 'A6', 'A3', 'A9', 'A5', 'A1', 'A4']\n",
      "   234.226  ['A0', 'A3', 'A9', 'A5', 'A1', 'A4', 'A2', 'A6', 'A7', 'A8']\n",
      "   267.818  ['A0', 'A9', 'A5', 'A1', 'A4', 'A2', 'A6', 'A3', 'A7', 'A8']\n",
      "   235.902  ['A0', 'A8', 'A7', 'A4', 'A1', 'A2', 'A6', 'A5', 'A9', 'A3']\n",
      "   267.517  ['A0', 'A7', 'A4', 'A1', 'A2', 'A6', 'A5', 'A9', 'A3', 'A8']\n",
      "   262.881  ['A0', 'A8', 'A7', 'A3', 'A9', 'A5', 'A6', 'A2', 'A1', 'A4']\n",
      "   276.102  ['A0', 'A8', 'A7', 'A2', 'A6', 'A9', 'A5', 'A1', 'A4', 'A3']\n",
      "   262.728  ['A0', 'A3', 'A6', 'A9', 'A5', 'A1', 'A4', 'A2', 'A7', 'A8']\n",
      "   235.902  ['A0', 'A3', 'A9', 'A5', 'A6', 'A2', 'A1', 'A4', 'A7', 'A8']\n",
      "   304.306  ['A0', 'A3', 'A9', 'A5', 'A6', 'A8', 'A7', 'A4', 'A1', 'A2']\n",
      "   276.102  ['A0', 'A8', 'A7', 'A2', 'A6', 'A9', 'A5', 'A1', 'A4', 'A3']\n",
      "   260.692  ['A0', 'A3', 'A6', 'A2', 'A4', 'A1', 'A5', 'A9', 'A7', 'A8']\n",
      "   250.245  ['A0', 'A8', 'A7', 'A3', 'A9', 'A5', 'A1', 'A4', 'A2', 'A6']\n",
      "   258.501  ['A0', 'A8', 'A7', 'A4', 'A1', 'A5', 'A9', 'A2', 'A6', 'A3']\n",
      "   262.881  ['A0', 'A8', 'A7', 'A3', 'A9', 'A5', 'A6', 'A2', 'A1', 'A4']\n",
      "   292.865  ['A0', 'A6', 'A2', 'A9', 'A5', 'A1', 'A4', 'A7', 'A8', 'A3']\n",
      "   234.226  ['A0', 'A3', 'A9', 'A5', 'A1', 'A4', 'A2', 'A6', 'A7', 'A8']\n",
      "Hill-Climbing\n",
      "   262.881  ['A0', 'A4', 'A1', 'A2', 'A6', 'A5', 'A9', 'A3', 'A7', 'A8']\n",
      "   304.306  ['A0', 'A3', 'A9', 'A5', 'A6', 'A8', 'A7', 'A4', 'A1', 'A2']\n",
      "   276.102  ['A0', 'A8', 'A7', 'A2', 'A6', 'A9', 'A5', 'A1', 'A4', 'A3']\n",
      "   276.102  ['A0', 'A3', 'A4', 'A1', 'A5', 'A9', 'A6', 'A2', 'A7', 'A8']\n",
      "   260.692  ['A0', 'A3', 'A6', 'A2', 'A4', 'A1', 'A5', 'A9', 'A7', 'A8']\n",
      "   258.501  ['A0', 'A3', 'A6', 'A2', 'A9', 'A5', 'A1', 'A4', 'A7', 'A8']\n",
      "   234.226  ['A0', 'A3', 'A9', 'A5', 'A1', 'A4', 'A2', 'A6', 'A7', 'A8']\n",
      "   304.306  ['A0', 'A2', 'A1', 'A4', 'A7', 'A8', 'A6', 'A5', 'A9', 'A3']\n",
      "   234.226  ['A0', 'A8', 'A7', 'A6', 'A2', 'A4', 'A1', 'A5', 'A9', 'A3']\n",
      "   234.226  ['A0', 'A3', 'A9', 'A5', 'A1', 'A4', 'A2', 'A6', 'A7', 'A8']\n",
      "   234.226  ['A0', 'A3', 'A9', 'A5', 'A1', 'A4', 'A2', 'A6', 'A7', 'A8']\n",
      "   282.744  ['A0', 'A4', 'A1', 'A5', 'A9', 'A3', 'A6', 'A2', 'A7', 'A8']\n",
      "   235.902  ['A0', 'A8', 'A7', 'A4', 'A1', 'A2', 'A6', 'A5', 'A9', 'A3']\n",
      "   250.245  ['A0', 'A8', 'A7', 'A3', 'A9', 'A5', 'A1', 'A4', 'A2', 'A6']\n",
      "   250.245  ['A0', 'A8', 'A7', 'A3', 'A9', 'A5', 'A1', 'A4', 'A2', 'A6']\n",
      "   235.902  ['A0', 'A3', 'A9', 'A5', 'A6', 'A2', 'A1', 'A4', 'A7', 'A8']\n",
      "   304.961  ['A0', 'A3', 'A9', 'A5', 'A8', 'A7', 'A4', 'A1', 'A2', 'A6']\n",
      "   258.501  ['A0', 'A8', 'A7', 'A4', 'A1', 'A5', 'A9', 'A2', 'A6', 'A3']\n",
      "   276.102  ['A0', 'A8', 'A7', 'A2', 'A6', 'A9', 'A5', 'A1', 'A4', 'A3']\n",
      "   282.744  ['A0', 'A8', 'A7', 'A2', 'A6', 'A3', 'A9', 'A5', 'A1', 'A4']\n",
      "   260.692  ['A0', 'A3', 'A6', 'A2', 'A4', 'A1', 'A5', 'A9', 'A7', 'A8']\n",
      "   262.881  ['A0', 'A8', 'A7', 'A3', 'A9', 'A5', 'A6', 'A2', 'A1', 'A4']\n",
      "   267.517  ['A0', 'A7', 'A4', 'A1', 'A2', 'A6', 'A5', 'A9', 'A3', 'A8']\n",
      "   267.517  ['A0', 'A7', 'A4', 'A1', 'A2', 'A6', 'A5', 'A9', 'A3', 'A8']\n",
      "   276.102  ['A0', 'A8', 'A7', 'A2', 'A6', 'A9', 'A5', 'A1', 'A4', 'A3']\n",
      "   250.245  ['A0', 'A8', 'A7', 'A3', 'A9', 'A5', 'A1', 'A4', 'A2', 'A6']\n",
      "   235.902  ['A0', 'A3', 'A9', 'A5', 'A6', 'A2', 'A1', 'A4', 'A7', 'A8']\n",
      "   304.306  ['A0', 'A2', 'A1', 'A4', 'A7', 'A8', 'A6', 'A5', 'A9', 'A3']\n",
      "   287.839  ['A0', 'A3', 'A8', 'A7', 'A4', 'A1', 'A2', 'A6', 'A5', 'A9']\n",
      "   267.517  ['A0', 'A8', 'A3', 'A9', 'A5', 'A6', 'A2', 'A1', 'A4', 'A7']\n",
      "   235.902  ['A0', 'A3', 'A9', 'A5', 'A6', 'A2', 'A1', 'A4', 'A7', 'A8']\n",
      "   250.245  ['A0', 'A8', 'A7', 'A3', 'A9', 'A5', 'A1', 'A4', 'A2', 'A6']\n",
      "   310.948  ['A0', 'A3', 'A9', 'A5', 'A2', 'A6', 'A8', 'A7', 'A4', 'A1']\n",
      "   260.692  ['A0', 'A8', 'A7', 'A9', 'A5', 'A1', 'A4', 'A2', 'A6', 'A3']\n",
      "   276.102  ['A0', 'A8', 'A7', 'A2', 'A6', 'A9', 'A5', 'A1', 'A4', 'A3']\n",
      "   250.245  ['A0', 'A6', 'A2', 'A4', 'A1', 'A5', 'A9', 'A3', 'A7', 'A8']\n",
      "   293.629  ['A0', 'A6', 'A2', 'A8', 'A7', 'A4', 'A1', 'A5', 'A9', 'A3']\n",
      "   250.245  ['A0', 'A6', 'A2', 'A4', 'A1', 'A5', 'A9', 'A3', 'A7', 'A8']\n",
      "   262.881  ['A0', 'A4', 'A1', 'A2', 'A6', 'A5', 'A9', 'A3', 'A7', 'A8']\n",
      "   235.902  ['A0', 'A8', 'A7', 'A4', 'A1', 'A2', 'A6', 'A5', 'A9', 'A3']\n",
      "   276.102  ['A0', 'A3', 'A4', 'A1', 'A5', 'A9', 'A6', 'A2', 'A7', 'A8']\n",
      "   250.245  ['A0', 'A6', 'A2', 'A4', 'A1', 'A5', 'A9', 'A3', 'A7', 'A8']\n",
      "   262.728  ['A0', 'A8', 'A7', 'A2', 'A4', 'A1', 'A5', 'A9', 'A6', 'A3']\n",
      "   234.226  ['A0', 'A3', 'A9', 'A5', 'A1', 'A4', 'A2', 'A6', 'A7', 'A8']\n",
      "   304.306  ['A0', 'A2', 'A1', 'A4', 'A7', 'A8', 'A6', 'A5', 'A9', 'A3']\n",
      "   287.839  ['A0', 'A9', 'A5', 'A6', 'A2', 'A1', 'A4', 'A7', 'A8', 'A3']\n",
      "   267.517  ['A0', 'A8', 'A3', 'A9', 'A5', 'A6', 'A2', 'A1', 'A4', 'A7']\n",
      "   260.692  ['A0', 'A8', 'A7', 'A9', 'A5', 'A1', 'A4', 'A2', 'A6', 'A3']\n",
      "   250.245  ['A0', 'A6', 'A2', 'A4', 'A1', 'A5', 'A9', 'A3', 'A7', 'A8']\n",
      "   304.306  ['A0', 'A2', 'A1', 'A4', 'A7', 'A8', 'A6', 'A5', 'A9', 'A3']\n",
      "   234.226  ['A0', 'A8', 'A7', 'A6', 'A2', 'A4', 'A1', 'A5', 'A9', 'A3']\n",
      "   304.306  ['A0', 'A2', 'A1', 'A4', 'A7', 'A8', 'A6', 'A5', 'A9', 'A3']\n",
      "   234.226  ['A0', 'A3', 'A9', 'A5', 'A1', 'A4', 'A2', 'A6', 'A7', 'A8']\n",
      "   234.226  ['A0', 'A8', 'A7', 'A6', 'A2', 'A4', 'A1', 'A5', 'A9', 'A3']\n",
      "   282.744  ['A0', 'A4', 'A1', 'A5', 'A9', 'A3', 'A6', 'A2', 'A7', 'A8']\n",
      "   304.961  ['A0', 'A6', 'A2', 'A1', 'A4', 'A7', 'A8', 'A5', 'A9', 'A3']\n",
      "   324.122  ['A0', 'A6', 'A2', 'A5', 'A9', 'A3', 'A8', 'A7', 'A4', 'A1']\n",
      "   235.902  ['A0', 'A3', 'A9', 'A5', 'A6', 'A2', 'A1', 'A4', 'A7', 'A8']\n",
      "   235.902  ['A0', 'A8', 'A7', 'A4', 'A1', 'A2', 'A6', 'A5', 'A9', 'A3']\n",
      "   267.818  ['A0', 'A8', 'A7', 'A3', 'A6', 'A2', 'A4', 'A1', 'A5', 'A9']\n",
      "   304.961  ['A0', 'A3', 'A9', 'A5', 'A8', 'A7', 'A4', 'A1', 'A2', 'A6']\n",
      "   235.902  ['A0', 'A3', 'A9', 'A5', 'A6', 'A2', 'A1', 'A4', 'A7', 'A8']\n",
      "   234.226  ['A0', 'A8', 'A7', 'A6', 'A2', 'A4', 'A1', 'A5', 'A9', 'A3']\n",
      "   234.226  ['A0', 'A3', 'A9', 'A5', 'A1', 'A4', 'A2', 'A6', 'A7', 'A8']\n",
      "   258.501  ['A0', 'A3', 'A6', 'A2', 'A9', 'A5', 'A1', 'A4', 'A7', 'A8']\n",
      "   287.839  ['A0', 'A9', 'A5', 'A6', 'A2', 'A1', 'A4', 'A7', 'A8', 'A3']\n",
      "   276.102  ['A0', 'A3', 'A4', 'A1', 'A5', 'A9', 'A6', 'A2', 'A7', 'A8']\n",
      "   287.839  ['A0', 'A3', 'A8', 'A7', 'A4', 'A1', 'A2', 'A6', 'A5', 'A9']\n",
      "   235.902  ['A0', 'A8', 'A7', 'A4', 'A1', 'A2', 'A6', 'A5', 'A9', 'A3']\n",
      "   262.881  ['A0', 'A8', 'A7', 'A3', 'A9', 'A5', 'A6', 'A2', 'A1', 'A4']\n",
      "   304.961  ['A0', 'A3', 'A9', 'A5', 'A8', 'A7', 'A4', 'A1', 'A2', 'A6']\n",
      "   235.902  ['A0', 'A3', 'A9', 'A5', 'A6', 'A2', 'A1', 'A4', 'A7', 'A8']\n",
      "   260.692  ['A0', 'A8', 'A7', 'A9', 'A5', 'A1', 'A4', 'A2', 'A6', 'A3']\n",
      "   267.517  ['A0', 'A8', 'A3', 'A9', 'A5', 'A6', 'A2', 'A1', 'A4', 'A7']\n",
      "   250.245  ['A0', 'A8', 'A7', 'A3', 'A9', 'A5', 'A1', 'A4', 'A2', 'A6']\n",
      "   258.501  ['A0', 'A3', 'A6', 'A2', 'A9', 'A5', 'A1', 'A4', 'A7', 'A8']\n",
      "   234.226  ['A0', 'A8', 'A7', 'A6', 'A2', 'A4', 'A1', 'A5', 'A9', 'A3']\n",
      "   250.245  ['A0', 'A6', 'A2', 'A4', 'A1', 'A5', 'A9', 'A3', 'A7', 'A8']\n",
      "   235.902  ['A0', 'A3', 'A9', 'A5', 'A6', 'A2', 'A1', 'A4', 'A7', 'A8']\n",
      "   234.226  ['A0', 'A8', 'A7', 'A6', 'A2', 'A4', 'A1', 'A5', 'A9', 'A3']\n",
      "   260.692  ['A0', 'A3', 'A6', 'A2', 'A4', 'A1', 'A5', 'A9', 'A7', 'A8']\n",
      "   267.818  ['A0', 'A9', 'A5', 'A1', 'A4', 'A2', 'A6', 'A3', 'A7', 'A8']\n",
      "   234.226  ['A0', 'A3', 'A9', 'A5', 'A1', 'A4', 'A2', 'A6', 'A7', 'A8']\n",
      "   335.934  ['A0', 'A3', 'A6', 'A2', 'A5', 'A9', 'A8', 'A7', 'A4', 'A1']\n",
      "   234.226  ['A0', 'A8', 'A7', 'A6', 'A2', 'A4', 'A1', 'A5', 'A9', 'A3']\n",
      "   250.245  ['A0', 'A8', 'A7', 'A3', 'A9', 'A5', 'A1', 'A4', 'A2', 'A6']\n",
      "   260.692  ['A0', 'A3', 'A6', 'A2', 'A4', 'A1', 'A5', 'A9', 'A7', 'A8']\n",
      "   250.245  ['A0', 'A6', 'A2', 'A4', 'A1', 'A5', 'A9', 'A3', 'A7', 'A8']\n",
      "   267.517  ['A0', 'A7', 'A4', 'A1', 'A2', 'A6', 'A5', 'A9', 'A3', 'A8']\n",
      "   304.961  ['A0', 'A6', 'A2', 'A1', 'A4', 'A7', 'A8', 'A5', 'A9', 'A3']\n",
      "   235.902  ['A0', 'A3', 'A9', 'A5', 'A6', 'A2', 'A1', 'A4', 'A7', 'A8']\n",
      "   258.501  ['A0', 'A3', 'A6', 'A2', 'A9', 'A5', 'A1', 'A4', 'A7', 'A8']\n",
      "   267.517  ['A0', 'A8', 'A3', 'A9', 'A5', 'A6', 'A2', 'A1', 'A4', 'A7']\n",
      "   260.692  ['A0', 'A8', 'A7', 'A9', 'A5', 'A1', 'A4', 'A2', 'A6', 'A3']\n",
      "   317.481  ['A0', 'A6', 'A5', 'A9', 'A3', 'A8', 'A7', 'A4', 'A1', 'A2']\n",
      "   267.818  ['A0', 'A8', 'A7', 'A3', 'A6', 'A2', 'A4', 'A1', 'A5', 'A9']\n",
      "   235.902  ['A0', 'A8', 'A7', 'A4', 'A1', 'A2', 'A6', 'A5', 'A9', 'A3']\n",
      "   250.245  ['A0', 'A8', 'A7', 'A3', 'A9', 'A5', 'A1', 'A4', 'A2', 'A6']\n",
      "   235.902  ['A0', 'A3', 'A9', 'A5', 'A6', 'A2', 'A1', 'A4', 'A7', 'A8']\n",
      "   235.902  ['A0', 'A3', 'A9', 'A5', 'A6', 'A2', 'A1', 'A4', 'A7', 'A8']\n"
     ]
    }
   ],
   "source": [
    "\n",
    "n_cidades = 10\n",
    "df_coordenadas = gera_coordenadas_aleatorias(n_cidades)\n",
    "\n",
    "tsp = gera_problema_tsp(df_coordenadas)\n",
    "\n",
    "# numero de vezes que executará cada algoritmo\n",
    "n_vezes = 100\n",
    "\n",
    "# Executa N vezes para gerar estatísticas da variável custo\n",
    "df_custo = executa_n_vezes(tsp, algoritmos, n_vezes)"
   ]
  },
  {
   "cell_type": "code",
   "execution_count": 42,
   "metadata": {},
   "outputs": [
    {
     "data": {
      "text/html": [
       "<div>\n",
       "<style scoped>\n",
       "    .dataframe tbody tr th:only-of-type {\n",
       "        vertical-align: middle;\n",
       "    }\n",
       "\n",
       "    .dataframe tbody tr th {\n",
       "        vertical-align: top;\n",
       "    }\n",
       "\n",
       "    .dataframe thead th {\n",
       "        text-align: right;\n",
       "    }\n",
       "</style>\n",
       "<table border=\"1\" class=\"dataframe\">\n",
       "  <thead>\n",
       "    <tr style=\"text-align: right;\">\n",
       "      <th>ALGORITMO</th>\n",
       "      <th>Hill-Climbing Restart</th>\n",
       "      <th>Hill-Climbing</th>\n",
       "    </tr>\n",
       "  </thead>\n",
       "  <tbody>\n",
       "    <tr>\n",
       "      <th>count</th>\n",
       "      <td>100.000000</td>\n",
       "      <td>100.000000</td>\n",
       "    </tr>\n",
       "    <tr>\n",
       "      <th>mean</th>\n",
       "      <td>264.984407</td>\n",
       "      <td>263.042975</td>\n",
       "    </tr>\n",
       "    <tr>\n",
       "      <th>std</th>\n",
       "      <td>23.337363</td>\n",
       "      <td>25.468780</td>\n",
       "    </tr>\n",
       "    <tr>\n",
       "      <th>min</th>\n",
       "      <td>234.226346</td>\n",
       "      <td>234.226346</td>\n",
       "    </tr>\n",
       "    <tr>\n",
       "      <th>25%</th>\n",
       "      <td>246.659108</td>\n",
       "      <td>235.901640</td>\n",
       "    </tr>\n",
       "    <tr>\n",
       "      <th>50%</th>\n",
       "      <td>262.880955</td>\n",
       "      <td>260.691934</td>\n",
       "    </tr>\n",
       "    <tr>\n",
       "      <th>75%</th>\n",
       "      <td>277.762498</td>\n",
       "      <td>276.102121</td>\n",
       "    </tr>\n",
       "    <tr>\n",
       "      <th>max</th>\n",
       "      <td>317.480796</td>\n",
       "      <td>335.933759</td>\n",
       "    </tr>\n",
       "  </tbody>\n",
       "</table>\n",
       "</div>"
      ],
      "text/plain": [
       "ALGORITMO  Hill-Climbing Restart  Hill-Climbing\n",
       "count                 100.000000     100.000000\n",
       "mean                  264.984407     263.042975\n",
       "std                    23.337363      25.468780\n",
       "min                   234.226346     234.226346\n",
       "25%                   246.659108     235.901640\n",
       "50%                   262.880955     260.691934\n",
       "75%                   277.762498     276.102121\n",
       "max                   317.480796     335.933759"
      ]
     },
     "execution_count": 42,
     "metadata": {},
     "output_type": "execute_result"
    }
   ],
   "source": [
    "df_custo.T.describe()"
   ]
  },
  {
   "cell_type": "code",
   "execution_count": 43,
   "metadata": {},
   "outputs": [],
   "source": [
    "def boxplot_sorted(df, rot=90, figsize=(12,6), fontsize=20):\n",
    "    df2 = df.T\n",
    "    meds = df2.median().sort_values(ascending=False)\n",
    "    axes = df2[meds.index].boxplot(figsize=figsize, rot=rot, fontsize=fontsize,\n",
    "                                   boxprops=dict(linewidth=4, color='cornflowerblue'),\n",
    "                                   whiskerprops=dict(linewidth=4, color='cornflowerblue'),\n",
    "                                   medianprops=dict(linewidth=4, color='firebrick'),\n",
    "                                   capprops=dict(linewidth=4, color='cornflowerblue'),\n",
    "                                   flierprops=dict(marker='o', markerfacecolor='dimgray',\n",
    "                                        markersize=12, markeredgecolor='black'),\n",
    "                                   return_type=\"axes\")\n",
    "\n",
    "    axes.set_title(\"Cost of Algorithms\", fontsize=fontsize)"
   ]
  },
  {
   "cell_type": "code",
   "execution_count": 47,
   "metadata": {},
   "outputs": [],
   "source": [
    "%matplotlib inline\n",
    "boxplot_sorted(df_custo, rot=90, figsize=(12,6), fontsize=20)"
   ]
  },
  {
   "cell_type": "code",
   "execution_count": null,
   "metadata": {},
   "outputs": [],
   "source": []
  }
 ],
 "metadata": {
  "kernelspec": {
   "display_name": "venv",
   "language": "python",
   "name": "python3"
  },
  "language_info": {
   "codemirror_mode": {
    "name": "ipython",
    "version": 3
   },
   "file_extension": ".py",
   "mimetype": "text/x-python",
   "name": "python",
   "nbconvert_exporter": "python",
   "pygments_lexer": "ipython3",
   "version": "3.12.1"
  }
 },
 "nbformat": 4,
 "nbformat_minor": 2
}
